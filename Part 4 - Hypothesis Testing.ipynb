{
 "cells": [
  {
   "cell_type": "markdown",
   "id": "0d1e5868",
   "metadata": {},
   "source": [
    "# Hypothesis Testing Movie Info"
   ]
  },
  {
   "cell_type": "code",
   "execution_count": 144,
   "id": "827a2240",
   "metadata": {},
   "outputs": [],
   "source": [
    "# Import Libraries \n",
    "import pandas as pd\n",
    "import numpy as np\n",
    "import seaborn as sns\n",
    "import matplotlib.pyplot as plt\n",
    "import os, json, time\n",
    "from tqdm.notebook import tqdm_notebook \n",
    "import scipy.stats as stats\n",
    "from statsmodels.stats.multicomp import pairwise_tukeyhsd"
   ]
  },
  {
   "cell_type": "markdown",
   "id": "4a0dadf6",
   "metadata": {
    "heading_collapsed": true
   },
   "source": [
    "## Save json files as csv files / dataframes"
   ]
  },
  {
   "cell_type": "code",
   "execution_count": 6,
   "id": "37058f40",
   "metadata": {
    "hidden": true
   },
   "outputs": [],
   "source": [
    "YEARS_TO_GET = list(range(2010,2021))\n",
    "api_df = pd.DataFrame()"
   ]
  },
  {
   "cell_type": "code",
   "execution_count": 8,
   "id": "ff5817aa",
   "metadata": {
    "hidden": true
   },
   "outputs": [],
   "source": [
    "for year in YEARS_TO_GET:\n",
    "    # select JSON_FILE name and check if file exists\n",
    "    JSON_FILE = f'Data/tmdb_api_results_{year}.json'\n",
    "    \n",
    "    # convert json file to .csv.gz\n",
    "    final_year_df = pd.read_json(JSON_FILE)\n",
    "    final_year_df.to_csv(f'Data/final_tmdb_data_{year}.csv.gz', \n",
    "                         compression='gzip',\n",
    "                        index=False)\n",
    "    \n",
    "    api_df = pd.concat([api_df, final_year_df], ignore_index=True)"
   ]
  },
  {
   "cell_type": "code",
   "execution_count": 9,
   "id": "22d0b697",
   "metadata": {
    "hidden": true
   },
   "outputs": [
    {
     "name": "stdout",
     "output_type": "stream",
     "text": [
      "<class 'pandas.core.frame.DataFrame'>\n",
      "RangeIndex: 40570 entries, 0 to 40569\n",
      "Data columns (total 26 columns):\n",
      " #   Column                 Non-Null Count  Dtype  \n",
      "---  ------                 --------------  -----  \n",
      " 0   imdb_id                40570 non-null  object \n",
      " 1   adult                  40559 non-null  float64\n",
      " 2   backdrop_path          26186 non-null  object \n",
      " 3   belongs_to_collection  2384 non-null   object \n",
      " 4   budget                 40559 non-null  float64\n",
      " 5   genres                 40559 non-null  object \n",
      " 6   homepage               37998 non-null  object \n",
      " 7   id                     40559 non-null  float64\n",
      " 8   original_language      40559 non-null  object \n",
      " 9   original_title         40559 non-null  object \n",
      " 10  overview               40559 non-null  object \n",
      " 11  popularity             40559 non-null  float64\n",
      " 12  poster_path            37225 non-null  object \n",
      " 13  production_companies   40559 non-null  object \n",
      " 14  production_countries   40559 non-null  object \n",
      " 15  release_date           40559 non-null  object \n",
      " 16  revenue                40559 non-null  float64\n",
      " 17  runtime                40043 non-null  float64\n",
      " 18  spoken_languages       40559 non-null  object \n",
      " 19  status                 40559 non-null  object \n",
      " 20  tagline                40558 non-null  object \n",
      " 21  title                  40559 non-null  object \n",
      " 22  video                  40559 non-null  float64\n",
      " 23  vote_average           40559 non-null  float64\n",
      " 24  vote_count             40559 non-null  float64\n",
      " 25  certification          22998 non-null  object \n",
      "dtypes: float64(9), object(17)\n",
      "memory usage: 8.0+ MB\n"
     ]
    },
    {
     "data": {
      "text/html": [
       "<div>\n",
       "<style scoped>\n",
       "    .dataframe tbody tr th:only-of-type {\n",
       "        vertical-align: middle;\n",
       "    }\n",
       "\n",
       "    .dataframe tbody tr th {\n",
       "        vertical-align: top;\n",
       "    }\n",
       "\n",
       "    .dataframe thead th {\n",
       "        text-align: right;\n",
       "    }\n",
       "</style>\n",
       "<table border=\"1\" class=\"dataframe\">\n",
       "  <thead>\n",
       "    <tr style=\"text-align: right;\">\n",
       "      <th></th>\n",
       "      <th>imdb_id</th>\n",
       "      <th>adult</th>\n",
       "      <th>backdrop_path</th>\n",
       "      <th>belongs_to_collection</th>\n",
       "      <th>budget</th>\n",
       "      <th>genres</th>\n",
       "      <th>homepage</th>\n",
       "      <th>id</th>\n",
       "      <th>original_language</th>\n",
       "      <th>original_title</th>\n",
       "      <th>...</th>\n",
       "      <th>revenue</th>\n",
       "      <th>runtime</th>\n",
       "      <th>spoken_languages</th>\n",
       "      <th>status</th>\n",
       "      <th>tagline</th>\n",
       "      <th>title</th>\n",
       "      <th>video</th>\n",
       "      <th>vote_average</th>\n",
       "      <th>vote_count</th>\n",
       "      <th>certification</th>\n",
       "    </tr>\n",
       "  </thead>\n",
       "  <tbody>\n",
       "    <tr>\n",
       "      <th>0</th>\n",
       "      <td>0</td>\n",
       "      <td>NaN</td>\n",
       "      <td>NaN</td>\n",
       "      <td>NaN</td>\n",
       "      <td>NaN</td>\n",
       "      <td>NaN</td>\n",
       "      <td>NaN</td>\n",
       "      <td>NaN</td>\n",
       "      <td>NaN</td>\n",
       "      <td>NaN</td>\n",
       "      <td>...</td>\n",
       "      <td>NaN</td>\n",
       "      <td>NaN</td>\n",
       "      <td>NaN</td>\n",
       "      <td>NaN</td>\n",
       "      <td>NaN</td>\n",
       "      <td>NaN</td>\n",
       "      <td>NaN</td>\n",
       "      <td>NaN</td>\n",
       "      <td>NaN</td>\n",
       "      <td>NaN</td>\n",
       "    </tr>\n",
       "    <tr>\n",
       "      <th>1</th>\n",
       "      <td>tt0312305</td>\n",
       "      <td>0.0</td>\n",
       "      <td>None</td>\n",
       "      <td>None</td>\n",
       "      <td>0.0</td>\n",
       "      <td>[{'id': 10751, 'name': 'Family'}, {'id': 16, '...</td>\n",
       "      <td>http://www.qqthemovie.com/</td>\n",
       "      <td>23738.0</td>\n",
       "      <td>en</td>\n",
       "      <td>Quantum Quest: A Cassini Space Odyssey</td>\n",
       "      <td>...</td>\n",
       "      <td>0.0</td>\n",
       "      <td>45.0</td>\n",
       "      <td>[{'english_name': 'English', 'iso_639_1': 'en'...</td>\n",
       "      <td>Released</td>\n",
       "      <td></td>\n",
       "      <td>Quantum Quest: A Cassini Space Odyssey</td>\n",
       "      <td>0.0</td>\n",
       "      <td>8.4</td>\n",
       "      <td>7.0</td>\n",
       "      <td></td>\n",
       "    </tr>\n",
       "    <tr>\n",
       "      <th>2</th>\n",
       "      <td>tt0326965</td>\n",
       "      <td>0.0</td>\n",
       "      <td>/xt2klJdKCVGXcoBGQrGfAS0aGDE.jpg</td>\n",
       "      <td>None</td>\n",
       "      <td>0.0</td>\n",
       "      <td>[{'id': 53, 'name': 'Thriller'}, {'id': 9648, ...</td>\n",
       "      <td>http://www.inmysleep.com</td>\n",
       "      <td>40048.0</td>\n",
       "      <td>en</td>\n",
       "      <td>In My Sleep</td>\n",
       "      <td>...</td>\n",
       "      <td>0.0</td>\n",
       "      <td>90.0</td>\n",
       "      <td>[{'english_name': 'English', 'iso_639_1': 'en'...</td>\n",
       "      <td>Released</td>\n",
       "      <td>Sleepwalking Can Be Deadly</td>\n",
       "      <td>In My Sleep</td>\n",
       "      <td>0.0</td>\n",
       "      <td>5.5</td>\n",
       "      <td>31.0</td>\n",
       "      <td>PG-13</td>\n",
       "    </tr>\n",
       "    <tr>\n",
       "      <th>3</th>\n",
       "      <td>tt0331312</td>\n",
       "      <td>0.0</td>\n",
       "      <td>None</td>\n",
       "      <td>None</td>\n",
       "      <td>0.0</td>\n",
       "      <td>[]</td>\n",
       "      <td></td>\n",
       "      <td>214026.0</td>\n",
       "      <td>en</td>\n",
       "      <td>This Wretched Life</td>\n",
       "      <td>...</td>\n",
       "      <td>0.0</td>\n",
       "      <td>0.0</td>\n",
       "      <td>[]</td>\n",
       "      <td>Released</td>\n",
       "      <td></td>\n",
       "      <td>This Wretched Life</td>\n",
       "      <td>0.0</td>\n",
       "      <td>5.0</td>\n",
       "      <td>1.0</td>\n",
       "      <td></td>\n",
       "    </tr>\n",
       "    <tr>\n",
       "      <th>4</th>\n",
       "      <td>tt0393049</td>\n",
       "      <td>0.0</td>\n",
       "      <td>/gc9FN5zohhzCt05RkejQIIPLtBl.jpg</td>\n",
       "      <td>None</td>\n",
       "      <td>300000.0</td>\n",
       "      <td>[{'id': 10749, 'name': 'Romance'}, {'id': 35, ...</td>\n",
       "      <td></td>\n",
       "      <td>324352.0</td>\n",
       "      <td>en</td>\n",
       "      <td>Anderson's Cross</td>\n",
       "      <td>...</td>\n",
       "      <td>0.0</td>\n",
       "      <td>98.0</td>\n",
       "      <td>[{'english_name': 'English', 'iso_639_1': 'en'...</td>\n",
       "      <td>Released</td>\n",
       "      <td>Sometimes the boy next door is more than the b...</td>\n",
       "      <td>Anderson's Cross</td>\n",
       "      <td>0.0</td>\n",
       "      <td>4.0</td>\n",
       "      <td>5.0</td>\n",
       "      <td></td>\n",
       "    </tr>\n",
       "  </tbody>\n",
       "</table>\n",
       "<p>5 rows × 26 columns</p>\n",
       "</div>"
      ],
      "text/plain": [
       "     imdb_id  adult                     backdrop_path belongs_to_collection  \\\n",
       "0          0    NaN                               NaN                   NaN   \n",
       "1  tt0312305    0.0                              None                  None   \n",
       "2  tt0326965    0.0  /xt2klJdKCVGXcoBGQrGfAS0aGDE.jpg                  None   \n",
       "3  tt0331312    0.0                              None                  None   \n",
       "4  tt0393049    0.0  /gc9FN5zohhzCt05RkejQIIPLtBl.jpg                  None   \n",
       "\n",
       "     budget                                             genres  \\\n",
       "0       NaN                                                NaN   \n",
       "1       0.0  [{'id': 10751, 'name': 'Family'}, {'id': 16, '...   \n",
       "2       0.0  [{'id': 53, 'name': 'Thriller'}, {'id': 9648, ...   \n",
       "3       0.0                                                 []   \n",
       "4  300000.0  [{'id': 10749, 'name': 'Romance'}, {'id': 35, ...   \n",
       "\n",
       "                     homepage        id original_language  \\\n",
       "0                         NaN       NaN               NaN   \n",
       "1  http://www.qqthemovie.com/   23738.0                en   \n",
       "2    http://www.inmysleep.com   40048.0                en   \n",
       "3                              214026.0                en   \n",
       "4                              324352.0                en   \n",
       "\n",
       "                           original_title  ... revenue  runtime  \\\n",
       "0                                     NaN  ...     NaN      NaN   \n",
       "1  Quantum Quest: A Cassini Space Odyssey  ...     0.0     45.0   \n",
       "2                             In My Sleep  ...     0.0     90.0   \n",
       "3                      This Wretched Life  ...     0.0      0.0   \n",
       "4                        Anderson's Cross  ...     0.0     98.0   \n",
       "\n",
       "                                    spoken_languages    status  \\\n",
       "0                                                NaN       NaN   \n",
       "1  [{'english_name': 'English', 'iso_639_1': 'en'...  Released   \n",
       "2  [{'english_name': 'English', 'iso_639_1': 'en'...  Released   \n",
       "3                                                 []  Released   \n",
       "4  [{'english_name': 'English', 'iso_639_1': 'en'...  Released   \n",
       "\n",
       "                                             tagline  \\\n",
       "0                                                NaN   \n",
       "1                                                      \n",
       "2                         Sleepwalking Can Be Deadly   \n",
       "3                                                      \n",
       "4  Sometimes the boy next door is more than the b...   \n",
       "\n",
       "                                    title  video  vote_average vote_count  \\\n",
       "0                                     NaN    NaN           NaN        NaN   \n",
       "1  Quantum Quest: A Cassini Space Odyssey    0.0           8.4        7.0   \n",
       "2                             In My Sleep    0.0           5.5       31.0   \n",
       "3                      This Wretched Life    0.0           5.0        1.0   \n",
       "4                        Anderson's Cross    0.0           4.0        5.0   \n",
       "\n",
       "  certification  \n",
       "0           NaN  \n",
       "1                \n",
       "2         PG-13  \n",
       "3                \n",
       "4                \n",
       "\n",
       "[5 rows x 26 columns]"
      ]
     },
     "execution_count": 9,
     "metadata": {},
     "output_type": "execute_result"
    }
   ],
   "source": [
    "api_df.info()\n",
    "api_df.head()"
   ]
  },
  {
   "cell_type": "markdown",
   "id": "4dbc01b2",
   "metadata": {
    "heading_collapsed": true
   },
   "source": [
    "## Hypothesis Testing"
   ]
  },
  {
   "cell_type": "code",
   "execution_count": 10,
   "id": "be646565",
   "metadata": {
    "hidden": true
   },
   "outputs": [],
   "source": [
    "# initialize significance level\n",
    "alpha = 0.05"
   ]
  },
  {
   "cell_type": "markdown",
   "id": "491d2c31",
   "metadata": {
    "heading_collapsed": true,
    "hidden": true
   },
   "source": [
    "### Q1: does the MPAA rating of a movie (G/PG/PG-13/R) affect how much revenue the movie generates?"
   ]
  },
  {
   "cell_type": "markdown",
   "id": "c6fc6e69",
   "metadata": {
    "hidden": true
   },
   "source": [
    "We will perform an ANOVA test to compare revenue between movies of different MPAA ratings \n",
    "- $H_0$: There is no difference in the revenue between movies of different MPAA ratings\n",
    "- $H_A$: There is a significant difference in revenue between movies of different MPAA ratings"
   ]
  },
  {
   "cell_type": "markdown",
   "id": "4580ba70",
   "metadata": {
    "hidden": true
   },
   "source": [
    "#### Clean certification and revenue columns"
   ]
  },
  {
   "cell_type": "code",
   "execution_count": 11,
   "id": "9ec61814",
   "metadata": {
    "hidden": true
   },
   "outputs": [
    {
     "data": {
      "text/plain": [
       "           14163\n",
       "R           3307\n",
       "NR          2404\n",
       "PG-13       1859\n",
       "PG           860\n",
       "G            287\n",
       "NC-17        111\n",
       "Unrated        4\n",
       "R              1\n",
       "PG-13          1\n",
       "10             1\n",
       "Name: certification, dtype: int64"
      ]
     },
     "execution_count": 11,
     "metadata": {},
     "output_type": "execute_result"
    }
   ],
   "source": [
    "# look at different MPAA ratings\n",
    "api_df['certification'].value_counts()"
   ]
  },
  {
   "cell_type": "code",
   "execution_count": 33,
   "id": "a4bfa4e5",
   "metadata": {
    "hidden": true
   },
   "outputs": [
    {
     "data": {
      "text/html": [
       "<div>\n",
       "<style scoped>\n",
       "    .dataframe tbody tr th:only-of-type {\n",
       "        vertical-align: middle;\n",
       "    }\n",
       "\n",
       "    .dataframe tbody tr th {\n",
       "        vertical-align: top;\n",
       "    }\n",
       "\n",
       "    .dataframe thead th {\n",
       "        text-align: right;\n",
       "    }\n",
       "</style>\n",
       "<table border=\"1\" class=\"dataframe\">\n",
       "  <thead>\n",
       "    <tr style=\"text-align: right;\">\n",
       "      <th></th>\n",
       "      <th>certification</th>\n",
       "      <th>revenue</th>\n",
       "    </tr>\n",
       "  </thead>\n",
       "  <tbody>\n",
       "    <tr>\n",
       "      <th>0</th>\n",
       "      <td>NaN</td>\n",
       "      <td>NaN</td>\n",
       "    </tr>\n",
       "    <tr>\n",
       "      <th>1</th>\n",
       "      <td></td>\n",
       "      <td>0.0</td>\n",
       "    </tr>\n",
       "    <tr>\n",
       "      <th>2</th>\n",
       "      <td>PG-13</td>\n",
       "      <td>0.0</td>\n",
       "    </tr>\n",
       "    <tr>\n",
       "      <th>3</th>\n",
       "      <td></td>\n",
       "      <td>0.0</td>\n",
       "    </tr>\n",
       "    <tr>\n",
       "      <th>4</th>\n",
       "      <td></td>\n",
       "      <td>0.0</td>\n",
       "    </tr>\n",
       "  </tbody>\n",
       "</table>\n",
       "</div>"
      ],
      "text/plain": [
       "  certification  revenue\n",
       "0           NaN      NaN\n",
       "1                    0.0\n",
       "2         PG-13      0.0\n",
       "3                    0.0\n",
       "4                    0.0"
      ]
     },
     "execution_count": 33,
     "metadata": {},
     "output_type": "execute_result"
    }
   ],
   "source": [
    "cert_df = api_df[['certification','revenue']].copy()\n",
    "cert_df.head()"
   ]
  },
  {
   "cell_type": "code",
   "execution_count": 36,
   "id": "26417bd2",
   "metadata": {
    "hidden": true
   },
   "outputs": [
    {
     "data": {
      "text/plain": [
       "certification    17572\n",
       "revenue             11\n",
       "dtype: int64"
      ]
     },
     "execution_count": 36,
     "metadata": {},
     "output_type": "execute_result"
    }
   ],
   "source": [
    "cert_df.isna().sum()"
   ]
  },
  {
   "cell_type": "code",
   "execution_count": 38,
   "id": "4df27f78",
   "metadata": {
    "hidden": true
   },
   "outputs": [
    {
     "data": {
      "text/plain": [
       "certification    0\n",
       "revenue          0\n",
       "dtype: int64"
      ]
     },
     "execution_count": 38,
     "metadata": {},
     "output_type": "execute_result"
    }
   ],
   "source": [
    "cert_df = cert_df.dropna()\n",
    "cert_df.isna().sum()"
   ]
  },
  {
   "cell_type": "code",
   "execution_count": 39,
   "id": "3496d7e9",
   "metadata": {
    "hidden": true
   },
   "outputs": [
    {
     "data": {
      "text/plain": [
       "R          3308\n",
       "NR         2404\n",
       "PG-13      1860\n",
       "PG          860\n",
       "G           287\n",
       "NC-17       111\n",
       "Unrated       4\n",
       "Name: certification, dtype: int64"
      ]
     },
     "execution_count": 39,
     "metadata": {},
     "output_type": "execute_result"
    }
   ],
   "source": [
    "cert_df = cert_df[cert_df['certification'] != '']\n",
    "cert_df = cert_df[cert_df['certification'] != '10']\n",
    "cert_df['certification'].value_counts()"
   ]
  },
  {
   "cell_type": "code",
   "execution_count": 40,
   "id": "1ca57c51",
   "metadata": {
    "hidden": true
   },
   "outputs": [
    {
     "data": {
      "text/plain": [
       "R          3308\n",
       "NR         2404\n",
       "PG-13      1860\n",
       "PG          860\n",
       "G           287\n",
       "NC-17       111\n",
       "Unrated       4\n",
       "Name: certification, dtype: int64"
      ]
     },
     "execution_count": 40,
     "metadata": {},
     "output_type": "execute_result"
    }
   ],
   "source": [
    "cert_df = cert_df.replace('R ','R')\n",
    "cert_df = cert_df.replace('PG-13 ','PG-13')\n",
    "cert_df['certification'].value_counts()"
   ]
  },
  {
   "cell_type": "code",
   "execution_count": 72,
   "id": "074fde3b",
   "metadata": {
    "hidden": true
   },
   "outputs": [
    {
     "data": {
      "text/plain": [
       "R        3308\n",
       "NR       2404\n",
       "PG-13    1860\n",
       "PG        860\n",
       "G         287\n",
       "NC-17     111\n",
       "Name: certification, dtype: int64"
      ]
     },
     "execution_count": 72,
     "metadata": {},
     "output_type": "execute_result"
    }
   ],
   "source": [
    "cert_df = cert_df[cert_df['certification'] != 'Unrated']\n",
    "cert_df['certification'].value_counts()"
   ]
  },
  {
   "cell_type": "code",
   "execution_count": 73,
   "id": "96344a57",
   "metadata": {
    "hidden": true
   },
   "outputs": [
    {
     "data": {
      "text/plain": [
       "array(['PG-13', 'PG', 'R', 'NR', 'G', 'NC-17'], dtype=object)"
      ]
     },
     "execution_count": 73,
     "metadata": {},
     "output_type": "execute_result"
    }
   ],
   "source": [
    "ratings = cert_df['certification'].unique()\n",
    "ratings"
   ]
  },
  {
   "cell_type": "markdown",
   "id": "b3b94653",
   "metadata": {
    "hidden": true
   },
   "source": [
    "#### separate data into groups for each rating"
   ]
  },
  {
   "cell_type": "code",
   "execution_count": 74,
   "id": "abae972c",
   "metadata": {
    "hidden": true
   },
   "outputs": [
    {
     "data": {
      "text/plain": [
       "dict_keys(['PG-13', 'PG', 'R', 'NR', 'G', 'NC-17'])"
      ]
     },
     "execution_count": 74,
     "metadata": {},
     "output_type": "execute_result"
    }
   ],
   "source": [
    "groups = {}\n",
    "for i in cert_df['certification'].unique():\n",
    "    data = cert_df.loc[cert_df['certification']==i,'revenue'].copy()\n",
    "    groups[i] = data\n",
    "groups.keys()"
   ]
  },
  {
   "cell_type": "markdown",
   "id": "84e48916",
   "metadata": {
    "hidden": true
   },
   "source": [
    "#### Check for normality"
   ]
  },
  {
   "cell_type": "code",
   "execution_count": 80,
   "id": "54f27afb",
   "metadata": {
    "hidden": true
   },
   "outputs": [
    {
     "data": {
      "text/html": [
       "<div>\n",
       "<style scoped>\n",
       "    .dataframe tbody tr th:only-of-type {\n",
       "        vertical-align: middle;\n",
       "    }\n",
       "\n",
       "    .dataframe tbody tr th {\n",
       "        vertical-align: top;\n",
       "    }\n",
       "\n",
       "    .dataframe thead th {\n",
       "        text-align: right;\n",
       "    }\n",
       "</style>\n",
       "<table border=\"1\" class=\"dataframe\">\n",
       "  <thead>\n",
       "    <tr style=\"text-align: right;\">\n",
       "      <th></th>\n",
       "      <th>n</th>\n",
       "      <th>p</th>\n",
       "      <th>test stat</th>\n",
       "      <th>sig</th>\n",
       "    </tr>\n",
       "  </thead>\n",
       "  <tbody>\n",
       "    <tr>\n",
       "      <th>PG-13</th>\n",
       "      <td>1860.0</td>\n",
       "      <td>0.000000e+00</td>\n",
       "      <td>1907.213061</td>\n",
       "      <td>False</td>\n",
       "    </tr>\n",
       "    <tr>\n",
       "      <th>PG</th>\n",
       "      <td>860.0</td>\n",
       "      <td>3.763211e-162</td>\n",
       "      <td>743.387025</td>\n",
       "      <td>False</td>\n",
       "    </tr>\n",
       "    <tr>\n",
       "      <th>R</th>\n",
       "      <td>3308.0</td>\n",
       "      <td>0.000000e+00</td>\n",
       "      <td>4159.475791</td>\n",
       "      <td>False</td>\n",
       "    </tr>\n",
       "    <tr>\n",
       "      <th>NR</th>\n",
       "      <td>2404.0</td>\n",
       "      <td>0.000000e+00</td>\n",
       "      <td>5625.825485</td>\n",
       "      <td>False</td>\n",
       "    </tr>\n",
       "    <tr>\n",
       "      <th>G</th>\n",
       "      <td>287.0</td>\n",
       "      <td>2.236222e-87</td>\n",
       "      <td>399.040230</td>\n",
       "      <td>False</td>\n",
       "    </tr>\n",
       "    <tr>\n",
       "      <th>NC-17</th>\n",
       "      <td>111.0</td>\n",
       "      <td>1.505871e-34</td>\n",
       "      <td>155.757044</td>\n",
       "      <td>False</td>\n",
       "    </tr>\n",
       "  </tbody>\n",
       "</table>\n",
       "</div>"
      ],
      "text/plain": [
       "            n              p    test stat    sig\n",
       "PG-13  1860.0   0.000000e+00  1907.213061  False\n",
       "PG      860.0  3.763211e-162   743.387025  False\n",
       "R      3308.0   0.000000e+00  4159.475791  False\n",
       "NR     2404.0   0.000000e+00  5625.825485  False\n",
       "G       287.0   2.236222e-87   399.040230  False\n",
       "NC-17   111.0   1.505871e-34   155.757044  False"
      ]
     },
     "execution_count": 80,
     "metadata": {},
     "output_type": "execute_result"
    }
   ],
   "source": [
    "norm_results = {}\n",
    "for i, data in groups.items():\n",
    "    stat, p = stats.normaltest(data)\n",
    "    norm_results[i] = {'n':len(data),\n",
    "                      'p':p,\n",
    "                      'test stat':stat}\n",
    "norm_results_df = pd.DataFrame(norm_results).T\n",
    "norm_results_df['sig'] = norm_results_df['p'] > alpha\n",
    "norm_results_df"
   ]
  },
  {
   "cell_type": "markdown",
   "id": "1753011e",
   "metadata": {
    "hidden": true
   },
   "source": [
    "> None of the MPCC ratings pass the normality test. However, all the utilized groups are greater than 20 in the number of datapoints, so we can continue\n"
   ]
  },
  {
   "cell_type": "markdown",
   "id": "2cc8d746",
   "metadata": {
    "hidden": true
   },
   "source": [
    "#### check for equal variance"
   ]
  },
  {
   "cell_type": "code",
   "execution_count": 81,
   "id": "9b4c2683",
   "metadata": {
    "hidden": true
   },
   "outputs": [
    {
     "data": {
      "text/plain": [
       "False"
      ]
     },
     "execution_count": 81,
     "metadata": {},
     "output_type": "execute_result"
    }
   ],
   "source": [
    "stats.levene(*groups.values()).pvalue >alpha"
   ]
  },
  {
   "cell_type": "markdown",
   "id": "e2a7ec73",
   "metadata": {
    "hidden": true
   },
   "source": [
    "> We do not have equal variances in the groups. I will skip the ANOVA test, since we do not meet the assumptions, and go straight to Tukey's pairwise comparisons test. "
   ]
  },
  {
   "cell_type": "markdown",
   "id": "94d354d8",
   "metadata": {
    "hidden": true
   },
   "source": [
    "#### Perform Tukey's pairwise comparisons test"
   ]
  },
  {
   "cell_type": "code",
   "execution_count": 83,
   "id": "a3288e4a",
   "metadata": {
    "hidden": true
   },
   "outputs": [
    {
     "data": {
      "text/html": [
       "<table class=\"simpletable\">\n",
       "<caption>Multiple Comparison of Means - Tukey HSD, FWER=0.05</caption>\n",
       "<tr>\n",
       "  <th>group1</th> <th>group2</th>    <th>meandiff</th>     <th>p-adj</th>      <th>lower</th>          <th>upper</th>     <th>reject</th>\n",
       "</tr>\n",
       "<tr>\n",
       "     <td>G</td>    <td>NC-17</td> <td>-22813674.2452</td>  <td>0.557</td> <td>-61935478.4836</td>  <td>16308129.9931</td>  <td>False</td>\n",
       "</tr>\n",
       "<tr>\n",
       "     <td>G</td>     <td>NR</td>   <td>-21929479.4738</td> <td>0.0487</td> <td>-43788386.6654</td>   <td>-70572.2822</td>   <td>True</td> \n",
       "</tr>\n",
       "<tr>\n",
       "     <td>G</td>     <td>PG</td>    <td>49697468.1683</td>   <td>0.0</td>   <td>25837420.2096</td>  <td>73557516.1269</td>  <td>True</td> \n",
       "</tr>\n",
       "<tr>\n",
       "     <td>G</td>    <td>PG-13</td>  <td>52084441.6108</td>   <td>0.0</td>   <td>29887232.2099</td>  <td>74281651.0117</td>  <td>True</td> \n",
       "</tr>\n",
       "<tr>\n",
       "     <td>G</td>      <td>R</td>    <td>-6182105.4503</td> <td>0.9643</td> <td>-27720113.0495</td>  <td>15355902.1489</td>  <td>False</td>\n",
       "</tr>\n",
       "<tr>\n",
       "   <td>NC-17</td>   <td>NR</td>     <td>884194.7714</td>    <td>1.0</td>  <td>-33095545.1857</td>  <td>34863934.7285</td>  <td>False</td>\n",
       "</tr>\n",
       "<tr>\n",
       "   <td>NC-17</td>   <td>PG</td>    <td>72511142.4135</td>   <td>0.0</td>   <td>37210819.5746</td> <td>107811465.2524</td>  <td>True</td> \n",
       "</tr>\n",
       "<tr>\n",
       "   <td>NC-17</td>  <td>PG-13</td>  <td>74898115.856</td>    <td>0.0</td>   <td>40699767.8092</td> <td>109096463.9027</td>  <td>True</td> \n",
       "</tr>\n",
       "<tr>\n",
       "   <td>NC-17</td>    <td>R</td>    <td>16631568.795</td>  <td>0.7249</td> <td>-17142632.5321</td>  <td>50405770.122</td>   <td>False</td>\n",
       "</tr>\n",
       "<tr>\n",
       "    <td>NR</td>     <td>PG</td>    <td>71626947.6421</td>   <td>0.0</td>   <td>57719789.4393</td>  <td>85534105.8449</td>  <td>True</td> \n",
       "</tr>\n",
       "<tr>\n",
       "    <td>NR</td>    <td>PG-13</td>  <td>74013921.0846</td>   <td>0.0</td>   <td>63205439.8834</td>  <td>84822402.2857</td>  <td>True</td> \n",
       "</tr>\n",
       "<tr>\n",
       "    <td>NR</td>      <td>R</td>    <td>15747374.0235</td>   <td>0.0</td>   <td>6366919.2354</td>   <td>25127828.8117</td>  <td>True</td> \n",
       "</tr>\n",
       "<tr>\n",
       "    <td>PG</td>    <td>PG-13</td>  <td>2386973.4425</td>  <td>0.9971</td> <td>-12046090.3644</td>  <td>16820037.2493</td>  <td>False</td>\n",
       "</tr>\n",
       "<tr>\n",
       "    <td>PG</td>      <td>R</td>   <td>-55879573.6186</td>   <td>0.0</td>  <td>-69276700.0645</td> <td>-42482447.1726</td>  <td>True</td> \n",
       "</tr>\n",
       "<tr>\n",
       "   <td>PG-13</td>    <td>R</td>    <td>-58266547.061</td>   <td>0.0</td>   <td>-68410373.44</td>   <td>-48122720.682</td>  <td>True</td> \n",
       "</tr>\n",
       "</table>"
      ],
      "text/plain": [
       "<class 'statsmodels.iolib.table.SimpleTable'>"
      ]
     },
     "execution_count": 83,
     "metadata": {},
     "output_type": "execute_result"
    }
   ],
   "source": [
    "values = cert_df['revenue']\n",
    "labels = cert_df['certification']\n",
    "\n",
    "tukeys_restults = pairwise_tukeyhsd(values, labels)\n",
    "tukeys_restults.summary()"
   ]
  },
  {
   "cell_type": "markdown",
   "id": "db725110",
   "metadata": {
    "hidden": true
   },
   "source": [
    "There are 5 significant results in which we fail to reject the null hypothesis that there is no significant difference in revenue between movies of different ratings.\n",
    "- G vs. NC-17\n",
    "- G vs. R\n",
    "- NC-17 vs NR\n",
    "- NC-17 vs R\n",
    "- PG vs PG-13"
   ]
  },
  {
   "cell_type": "code",
   "execution_count": 155,
   "id": "c209a77b",
   "metadata": {
    "hidden": true
   },
   "outputs": [
    {
     "data": {
      "image/png": "[encoded data removed]",
      "text/plain": [
       "<Figure size 500x500 with 1 Axes>"
      ]
     },
     "metadata": {},
     "output_type": "display_data"
    }
   ],
   "source": [
    "fig, ax = plt.subplots(figsize= (5,5), ncols=1, \n",
    "                                constrained_layout=True)\n",
    "sns.barplot(data = cert_df, x='certification',y='revenue')\n",
    "fig.suptitle('Revenue in movies with different MPAA ratings');"
   ]
  },
  {
   "cell_type": "markdown",
   "id": "e5e749ad",
   "metadata": {
    "heading_collapsed": true,
    "hidden": true
   },
   "source": [
    "### Q2: Do movies that are over 2.5 hours long earn more revenue than movies that are 1.5 hours long (or less)?"
   ]
  },
  {
   "cell_type": "markdown",
   "id": "2ef0f881",
   "metadata": {
    "hidden": true
   },
   "source": [
    "We will perform an 2 sample t-test to compare revenue between movies of different lengths\n",
    "- $H_0$: There is no difference in the revenue between movies that are over 2.5 hours long vs. movies that are 1.5 hours or less\n",
    "- $H_A$: There is a significant difference in revenue between movies that are over 2.5 hours long vs. movies that are 1.5 hours or less"
   ]
  },
  {
   "cell_type": "markdown",
   "id": "caea9df9",
   "metadata": {
    "hidden": true
   },
   "source": [
    "#### Clean runtime and revenue columns"
   ]
  },
  {
   "cell_type": "code",
   "execution_count": 89,
   "id": "bf570597",
   "metadata": {
    "hidden": true
   },
   "outputs": [
    {
     "name": "stdout",
     "output_type": "stream",
     "text": [
      "long:150.0, short:90.0\n"
     ]
    }
   ],
   "source": [
    "long = 60*2.5\n",
    "short = 60*1.5\n",
    "print(f'long:{long}, short:{short}')"
   ]
  },
  {
   "cell_type": "code",
   "execution_count": 86,
   "id": "3950c35e",
   "metadata": {
    "hidden": true
   },
   "outputs": [
    {
     "data": {
      "text/html": [
       "<div>\n",
       "<style scoped>\n",
       "    .dataframe tbody tr th:only-of-type {\n",
       "        vertical-align: middle;\n",
       "    }\n",
       "\n",
       "    .dataframe tbody tr th {\n",
       "        vertical-align: top;\n",
       "    }\n",
       "\n",
       "    .dataframe thead th {\n",
       "        text-align: right;\n",
       "    }\n",
       "</style>\n",
       "<table border=\"1\" class=\"dataframe\">\n",
       "  <thead>\n",
       "    <tr style=\"text-align: right;\">\n",
       "      <th></th>\n",
       "      <th>runtime</th>\n",
       "      <th>revenue</th>\n",
       "    </tr>\n",
       "  </thead>\n",
       "  <tbody>\n",
       "    <tr>\n",
       "      <th>0</th>\n",
       "      <td>NaN</td>\n",
       "      <td>NaN</td>\n",
       "    </tr>\n",
       "    <tr>\n",
       "      <th>1</th>\n",
       "      <td>45.0</td>\n",
       "      <td>0.0</td>\n",
       "    </tr>\n",
       "    <tr>\n",
       "      <th>2</th>\n",
       "      <td>90.0</td>\n",
       "      <td>0.0</td>\n",
       "    </tr>\n",
       "    <tr>\n",
       "      <th>3</th>\n",
       "      <td>0.0</td>\n",
       "      <td>0.0</td>\n",
       "    </tr>\n",
       "    <tr>\n",
       "      <th>4</th>\n",
       "      <td>98.0</td>\n",
       "      <td>0.0</td>\n",
       "    </tr>\n",
       "    <tr>\n",
       "      <th>...</th>\n",
       "      <td>...</td>\n",
       "      <td>...</td>\n",
       "    </tr>\n",
       "    <tr>\n",
       "      <th>40565</th>\n",
       "      <td>92.0</td>\n",
       "      <td>0.0</td>\n",
       "    </tr>\n",
       "    <tr>\n",
       "      <th>40566</th>\n",
       "      <td>92.0</td>\n",
       "      <td>0.0</td>\n",
       "    </tr>\n",
       "    <tr>\n",
       "      <th>40567</th>\n",
       "      <td>103.0</td>\n",
       "      <td>0.0</td>\n",
       "    </tr>\n",
       "    <tr>\n",
       "      <th>40568</th>\n",
       "      <td>0.0</td>\n",
       "      <td>0.0</td>\n",
       "    </tr>\n",
       "    <tr>\n",
       "      <th>40569</th>\n",
       "      <td>92.0</td>\n",
       "      <td>0.0</td>\n",
       "    </tr>\n",
       "  </tbody>\n",
       "</table>\n",
       "<p>40570 rows × 2 columns</p>\n",
       "</div>"
      ],
      "text/plain": [
       "       runtime  revenue\n",
       "0          NaN      NaN\n",
       "1         45.0      0.0\n",
       "2         90.0      0.0\n",
       "3          0.0      0.0\n",
       "4         98.0      0.0\n",
       "...        ...      ...\n",
       "40565     92.0      0.0\n",
       "40566     92.0      0.0\n",
       "40567    103.0      0.0\n",
       "40568      0.0      0.0\n",
       "40569     92.0      0.0\n",
       "\n",
       "[40570 rows x 2 columns]"
      ]
     },
     "execution_count": 86,
     "metadata": {},
     "output_type": "execute_result"
    }
   ],
   "source": [
    "run_df = api_df[['runtime','revenue']].copy()\n",
    "run_df"
   ]
  },
  {
   "cell_type": "code",
   "execution_count": 90,
   "id": "a0e26b68",
   "metadata": {
    "hidden": true
   },
   "outputs": [
    {
     "data": {
      "text/plain": [
       "none     22149\n",
       "short    17634\n",
       "long       787\n",
       "Name: length, dtype: int64"
      ]
     },
     "execution_count": 90,
     "metadata": {},
     "output_type": "execute_result"
    }
   ],
   "source": [
    "run_df['length'] = ['long' if x>=long else 'short' if x <=short else 'none' for x in run_df['runtime']]\n",
    "run_df['length'].value_counts()"
   ]
  },
  {
   "cell_type": "code",
   "execution_count": 91,
   "id": "8ff46665",
   "metadata": {
    "hidden": true
   },
   "outputs": [
    {
     "data": {
      "text/plain": [
       "short    17634\n",
       "long       787\n",
       "Name: length, dtype: int64"
      ]
     },
     "execution_count": 91,
     "metadata": {},
     "output_type": "execute_result"
    }
   ],
   "source": [
    "run_df = run_df[run_df['length'] != 'none']\n",
    "run_df['length'].value_counts()"
   ]
  },
  {
   "cell_type": "code",
   "execution_count": 92,
   "id": "53f8a499",
   "metadata": {
    "hidden": true
   },
   "outputs": [
    {
     "data": {
      "text/plain": [
       "runtime    0\n",
       "revenue    0\n",
       "length     0\n",
       "dtype: int64"
      ]
     },
     "execution_count": 92,
     "metadata": {},
     "output_type": "execute_result"
    }
   ],
   "source": [
    "run_df.isna().sum()"
   ]
  },
  {
   "cell_type": "markdown",
   "id": "2f74f9b9",
   "metadata": {
    "hidden": true
   },
   "source": [
    "#### split into two groups"
   ]
  },
  {
   "cell_type": "code",
   "execution_count": 95,
   "id": "d8998aa6",
   "metadata": {
    "hidden": true
   },
   "outputs": [],
   "source": [
    "movies_long = run_df.loc[run_df['length']=='long', 'revenue']\n",
    "movies_short = run_df.loc[run_df['length']=='short', 'revenue']"
   ]
  },
  {
   "cell_type": "markdown",
   "id": "d144ddee",
   "metadata": {
    "hidden": true
   },
   "source": [
    "#### check for and remove outliers"
   ]
  },
  {
   "cell_type": "code",
   "execution_count": 96,
   "id": "a1e59e81",
   "metadata": {
    "hidden": true
   },
   "outputs": [
    {
     "data": {
      "text/plain": [
       "11"
      ]
     },
     "execution_count": 96,
     "metadata": {},
     "output_type": "execute_result"
    }
   ],
   "source": [
    "zscores = stats.zscore(movies_long)\n",
    "outliers = abs(zscores)>3\n",
    "np.sum(outliers)"
   ]
  },
  {
   "cell_type": "code",
   "execution_count": 97,
   "id": "7563c548",
   "metadata": {
    "hidden": true
   },
   "outputs": [],
   "source": [
    "movies_long = movies_long[(np.abs(stats.zscore(movies_long))<3)]"
   ]
  },
  {
   "cell_type": "code",
   "execution_count": 98,
   "id": "7f8c1ce0",
   "metadata": {
    "hidden": true
   },
   "outputs": [
    {
     "data": {
      "text/plain": [
       "86"
      ]
     },
     "execution_count": 98,
     "metadata": {},
     "output_type": "execute_result"
    }
   ],
   "source": [
    "zscores = stats.zscore(movies_short)\n",
    "outliers = abs(zscores)>3\n",
    "np.sum(outliers)"
   ]
  },
  {
   "cell_type": "code",
   "execution_count": 99,
   "id": "a8ba4183",
   "metadata": {
    "hidden": true
   },
   "outputs": [],
   "source": [
    "movies_short = movies_short[(np.abs(stats.zscore(movies_short))<3)]"
   ]
  },
  {
   "cell_type": "markdown",
   "id": "c035d5da",
   "metadata": {
    "hidden": true
   },
   "source": [
    "#### check for normality"
   ]
  },
  {
   "cell_type": "code",
   "execution_count": 100,
   "id": "0ae2dba8",
   "metadata": {
    "hidden": true
   },
   "outputs": [
    {
     "name": "stdout",
     "output_type": "stream",
     "text": [
      "p-value: 3.7788671226094765e-215\n"
     ]
    },
    {
     "data": {
      "text/plain": [
       "False"
      ]
     },
     "execution_count": 100,
     "metadata": {},
     "output_type": "execute_result"
    }
   ],
   "source": [
    "result = stats.normaltest(movies_long)\n",
    "print(f'p-value: {result.pvalue}')\n",
    "result.pvalue > alpha"
   ]
  },
  {
   "cell_type": "code",
   "execution_count": 101,
   "id": "94746dc1",
   "metadata": {
    "hidden": true
   },
   "outputs": [
    {
     "name": "stdout",
     "output_type": "stream",
     "text": [
      "p-value: 0.0\n"
     ]
    },
    {
     "data": {
      "text/plain": [
       "False"
      ]
     },
     "execution_count": 101,
     "metadata": {},
     "output_type": "execute_result"
    }
   ],
   "source": [
    "result = stats.normaltest(movies_short)\n",
    "print(f'p-value: {result.pvalue}')\n",
    "result.pvalue > alpha"
   ]
  },
  {
   "cell_type": "markdown",
   "id": "f1f348fe",
   "metadata": {
    "hidden": true
   },
   "source": [
    "> p-values for both groups are well below alpha = 0.05, which means our data is NOT normally distributed. However, our sample size is large enough to proceed without satisfying this test."
   ]
  },
  {
   "cell_type": "markdown",
   "id": "60b88cea",
   "metadata": {
    "hidden": true
   },
   "source": [
    "#### check for equal variance"
   ]
  },
  {
   "cell_type": "code",
   "execution_count": 102,
   "id": "974f95fd",
   "metadata": {
    "hidden": true
   },
   "outputs": [
    {
     "name": "stdout",
     "output_type": "stream",
     "text": [
      "p-value: 2.4064928915729355e-169\n"
     ]
    },
    {
     "data": {
      "text/plain": [
       "False"
      ]
     },
     "execution_count": 102,
     "metadata": {},
     "output_type": "execute_result"
    }
   ],
   "source": [
    "result = stats.levene(movies_long, movies_short)\n",
    "print(f'p-value: {result.pvalue}')\n",
    "result.pvalue > alpha"
   ]
  },
  {
   "cell_type": "markdown",
   "id": "55478cea",
   "metadata": {
    "hidden": true
   },
   "source": [
    "> The two groups DO NOT have equal variances. Therefore, we need to be sure to include \"equal_var = False\" when we perform the t-test."
   ]
  },
  {
   "cell_type": "markdown",
   "id": "b47029cd",
   "metadata": {
    "hidden": true
   },
   "source": [
    "#### perform and evaluate t-test"
   ]
  },
  {
   "cell_type": "code",
   "execution_count": 103,
   "id": "91c280f9",
   "metadata": {
    "hidden": true
   },
   "outputs": [
    {
     "name": "stdout",
     "output_type": "stream",
     "text": [
      "p-value: 2.913475655272334e-09\n"
     ]
    },
    {
     "data": {
      "text/plain": [
       "False"
      ]
     },
     "execution_count": 103,
     "metadata": {},
     "output_type": "execute_result"
    }
   ],
   "source": [
    "result = stats.ttest_ind(movies_long, movies_short, equal_var=False)\n",
    "print(f'p-value: {result.pvalue}')\n",
    "result.pvalue > alpha"
   ]
  },
  {
   "cell_type": "markdown",
   "id": "53c1d860",
   "metadata": {
    "hidden": true
   },
   "source": [
    "> Based on the p-value of the t-test being < alpha (0.05), we reject the null hypothesis. Therefore, we conclude that **there is a significant difference in revenue between movies that are over 2.5 hours long vs. movies that are 1.5 hours or less.**"
   ]
  },
  {
   "cell_type": "code",
   "execution_count": 153,
   "id": "e9632a2c",
   "metadata": {
    "hidden": true
   },
   "outputs": [
    {
     "data": {
      "image/png": "[encoded data removed]",
      "text/plain": [
       "<Figure size 500x500 with 1 Axes>"
      ]
     },
     "metadata": {},
     "output_type": "display_data"
    }
   ],
   "source": [
    "fig, ax = plt.subplots(figsize= (5,5), ncols=1, \n",
    "                                constrained_layout=True)\n",
    "sns.barplot(data = run_df, x='length',y='revenue')\n",
    "fig.suptitle('Revenue in movies with long vs short runtime');"
   ]
  },
  {
   "cell_type": "markdown",
   "id": "36057d07",
   "metadata": {
    "hidden": true
   },
   "source": [
    "### Q3: Do movies released in 2020 earn less revenue than movies released in 2018?"
   ]
  },
  {
   "cell_type": "markdown",
   "id": "bd652508",
   "metadata": {
    "hidden": true
   },
   "source": [
    "We will perform an 2 sample t-test to compare revenue between movies released in 2018 vs 2020\n",
    "- $H_0$: There is no difference in the revenue between movies released in 2018 vs 2020\n",
    "- $H_A$: There is a significant difference in revenue between movies released in 2018 vs 2020"
   ]
  },
  {
   "cell_type": "markdown",
   "id": "8e1563bf",
   "metadata": {
    "hidden": true
   },
   "source": [
    "#### split into two groups"
   ]
  },
  {
   "cell_type": "code",
   "execution_count": 116,
   "id": "af438ed9",
   "metadata": {
    "hidden": true
   },
   "outputs": [],
   "source": [
    "api_2018 = pd.read_csv('Data/final_tmdb_data_2018.csv.gz')\n",
    "api_2020 = pd.read_csv('Data/final_tmdb_data_2020.csv.gz')"
   ]
  },
  {
   "cell_type": "code",
   "execution_count": 117,
   "id": "1c190c91",
   "metadata": {
    "hidden": true
   },
   "outputs": [],
   "source": [
    "api_2018 = api_2018[['imdb_id','revenue']]\n",
    "api_2020 = api_2020[['imdb_id','revenue']]"
   ]
  },
  {
   "cell_type": "code",
   "execution_count": 121,
   "id": "48c3a7fb",
   "metadata": {
    "hidden": true
   },
   "outputs": [],
   "source": [
    "api_2018 = api_2018.dropna()\n",
    "api_2020 = api_2020.dropna()"
   ]
  },
  {
   "cell_type": "code",
   "execution_count": 124,
   "id": "a7ac40ad",
   "metadata": {
    "hidden": true
   },
   "outputs": [
    {
     "name": "stdout",
     "output_type": "stream",
     "text": [
      "Datapoint count in 2018 group: 4519\n",
      "Datapoint count in 2020 group: 3717\n"
     ]
    }
   ],
   "source": [
    "rev_2018 = api_2018['revenue'].values\n",
    "rev_2020 = api_2020['revenue'].values\n",
    "print(f'Datapoint count in 2018 group: {len(rev_2018)}')\n",
    "print(f'Datapoint count in 2020 group: {len(rev_2020)}')"
   ]
  },
  {
   "cell_type": "markdown",
   "id": "a309b1cc",
   "metadata": {
    "hidden": true
   },
   "source": [
    "#### check for and remove outliers"
   ]
  },
  {
   "cell_type": "code",
   "execution_count": 125,
   "id": "cf6f6b17",
   "metadata": {
    "hidden": true
   },
   "outputs": [
    {
     "data": {
      "text/plain": [
       "39"
      ]
     },
     "execution_count": 125,
     "metadata": {},
     "output_type": "execute_result"
    }
   ],
   "source": [
    "zscores = stats.zscore(rev_2018)\n",
    "outliers = abs(zscores)>3\n",
    "np.sum(outliers)"
   ]
  },
  {
   "cell_type": "code",
   "execution_count": 126,
   "id": "0188cb4b",
   "metadata": {
    "hidden": true
   },
   "outputs": [],
   "source": [
    "rev_2018 = rev_2018[(np.abs(stats.zscore(rev_2018))<3)]"
   ]
  },
  {
   "cell_type": "code",
   "execution_count": 127,
   "id": "fb57493b",
   "metadata": {
    "hidden": true
   },
   "outputs": [
    {
     "data": {
      "text/plain": [
       "17"
      ]
     },
     "execution_count": 127,
     "metadata": {},
     "output_type": "execute_result"
    }
   ],
   "source": [
    "zscores = stats.zscore(rev_2020)\n",
    "outliers = abs(zscores)>3\n",
    "np.sum(outliers)"
   ]
  },
  {
   "cell_type": "code",
   "execution_count": 128,
   "id": "55820a2f",
   "metadata": {
    "hidden": true
   },
   "outputs": [],
   "source": [
    "rev_2020 = rev_2020[(np.abs(stats.zscore(rev_2020))<3)]"
   ]
  },
  {
   "cell_type": "markdown",
   "id": "c797309f",
   "metadata": {
    "hidden": true
   },
   "source": [
    "#### check for normality"
   ]
  },
  {
   "cell_type": "code",
   "execution_count": 129,
   "id": "5566c1ab",
   "metadata": {
    "hidden": true
   },
   "outputs": [
    {
     "name": "stdout",
     "output_type": "stream",
     "text": [
      "p-value: 0.0\n"
     ]
    },
    {
     "data": {
      "text/plain": [
       "False"
      ]
     },
     "execution_count": 129,
     "metadata": {},
     "output_type": "execute_result"
    }
   ],
   "source": [
    "result = stats.normaltest(rev_2018)\n",
    "print(f'p-value: {result.pvalue}')\n",
    "result.pvalue > alpha"
   ]
  },
  {
   "cell_type": "code",
   "execution_count": 130,
   "id": "9d4f3e3e",
   "metadata": {
    "hidden": true
   },
   "outputs": [
    {
     "name": "stdout",
     "output_type": "stream",
     "text": [
      "p-value: 0.0\n"
     ]
    },
    {
     "data": {
      "text/plain": [
       "False"
      ]
     },
     "execution_count": 130,
     "metadata": {},
     "output_type": "execute_result"
    }
   ],
   "source": [
    "result = stats.normaltest(rev_2020)\n",
    "print(f'p-value: {result.pvalue}')\n",
    "result.pvalue > alpha"
   ]
  },
  {
   "cell_type": "markdown",
   "id": "6365a153",
   "metadata": {
    "hidden": true
   },
   "source": [
    "> p-values for both groups are well below alpha = 0.05, which means our data is NOT normally distributed. However, our sample size is large enough to proceed without satisfying this test."
   ]
  },
  {
   "cell_type": "markdown",
   "id": "db461040",
   "metadata": {
    "hidden": true
   },
   "source": [
    "#### check for equal variance"
   ]
  },
  {
   "cell_type": "code",
   "execution_count": 131,
   "id": "90127c64",
   "metadata": {
    "hidden": true
   },
   "outputs": [
    {
     "name": "stdout",
     "output_type": "stream",
     "text": [
      "p-value: 3.306374812954294e-12\n"
     ]
    },
    {
     "data": {
      "text/plain": [
       "False"
      ]
     },
     "execution_count": 131,
     "metadata": {},
     "output_type": "execute_result"
    }
   ],
   "source": [
    "result = stats.levene(rev_2018,rev_2020)\n",
    "print(f'p-value: {result.pvalue}')\n",
    "result.pvalue > alpha"
   ]
  },
  {
   "cell_type": "markdown",
   "id": "f0e00273",
   "metadata": {
    "hidden": true
   },
   "source": [
    "> The two groups DO NOT have equal variances. Therefore, we need to be sure to include \"equal_var = False\" when we perform the t-test."
   ]
  },
  {
   "cell_type": "markdown",
   "id": "66f18400",
   "metadata": {
    "hidden": true
   },
   "source": [
    "#### perform and evaluate t-test"
   ]
  },
  {
   "cell_type": "code",
   "execution_count": 135,
   "id": "883c483f",
   "metadata": {
    "hidden": true
   },
   "outputs": [
    {
     "name": "stdout",
     "output_type": "stream",
     "text": [
      "p-value: 4.3777383947473944e-14\n"
     ]
    },
    {
     "data": {
      "text/plain": [
       "False"
      ]
     },
     "execution_count": 135,
     "metadata": {},
     "output_type": "execute_result"
    }
   ],
   "source": [
    "result = stats.ttest_ind(rev_2018, rev_2020, equal_var=False)\n",
    "print(f'p-value: {result.pvalue}')\n",
    "result.pvalue > alpha"
   ]
  },
  {
   "cell_type": "markdown",
   "id": "8caaafe4",
   "metadata": {
    "hidden": true
   },
   "source": [
    "> Based on the p-value of the t-test being < alpha (0.05), we reject the null hypothesis. Therefore, we conclude that **there is a significant difference in revenue between movies released in 2018 vs 2020.**"
   ]
  },
  {
   "cell_type": "code",
   "execution_count": 137,
   "id": "7adaa887",
   "metadata": {
    "hidden": true
   },
   "outputs": [
    {
     "data": {
      "text/html": [
       "<div>\n",
       "<style scoped>\n",
       "    .dataframe tbody tr th:only-of-type {\n",
       "        vertical-align: middle;\n",
       "    }\n",
       "\n",
       "    .dataframe tbody tr th {\n",
       "        vertical-align: top;\n",
       "    }\n",
       "\n",
       "    .dataframe thead th {\n",
       "        text-align: right;\n",
       "    }\n",
       "</style>\n",
       "<table border=\"1\" class=\"dataframe\">\n",
       "  <thead>\n",
       "    <tr style=\"text-align: right;\">\n",
       "      <th></th>\n",
       "      <th>imdb_id</th>\n",
       "      <th>revenue</th>\n",
       "      <th>year</th>\n",
       "    </tr>\n",
       "  </thead>\n",
       "  <tbody>\n",
       "    <tr>\n",
       "      <th>0</th>\n",
       "      <td>tt0069049</td>\n",
       "      <td>0.0</td>\n",
       "      <td>2018</td>\n",
       "    </tr>\n",
       "    <tr>\n",
       "      <th>1</th>\n",
       "      <td>tt0192528</td>\n",
       "      <td>0.0</td>\n",
       "      <td>2018</td>\n",
       "    </tr>\n",
       "    <tr>\n",
       "      <th>2</th>\n",
       "      <td>tt0360556</td>\n",
       "      <td>0.0</td>\n",
       "      <td>2018</td>\n",
       "    </tr>\n",
       "    <tr>\n",
       "      <th>3</th>\n",
       "      <td>tt0365545</td>\n",
       "      <td>0.0</td>\n",
       "      <td>2018</td>\n",
       "    </tr>\n",
       "    <tr>\n",
       "      <th>4</th>\n",
       "      <td>tt0427543</td>\n",
       "      <td>0.0</td>\n",
       "      <td>2018</td>\n",
       "    </tr>\n",
       "    <tr>\n",
       "      <th>...</th>\n",
       "      <td>...</td>\n",
       "      <td>...</td>\n",
       "      <td>...</td>\n",
       "    </tr>\n",
       "    <tr>\n",
       "      <th>8231</th>\n",
       "      <td>tt9904004</td>\n",
       "      <td>0.0</td>\n",
       "      <td>2020</td>\n",
       "    </tr>\n",
       "    <tr>\n",
       "      <th>8232</th>\n",
       "      <td>tt9904802</td>\n",
       "      <td>0.0</td>\n",
       "      <td>2020</td>\n",
       "    </tr>\n",
       "    <tr>\n",
       "      <th>8233</th>\n",
       "      <td>tt9911196</td>\n",
       "      <td>0.0</td>\n",
       "      <td>2020</td>\n",
       "    </tr>\n",
       "    <tr>\n",
       "      <th>8234</th>\n",
       "      <td>tt9916190</td>\n",
       "      <td>0.0</td>\n",
       "      <td>2020</td>\n",
       "    </tr>\n",
       "    <tr>\n",
       "      <th>8235</th>\n",
       "      <td>tt9916362</td>\n",
       "      <td>0.0</td>\n",
       "      <td>2020</td>\n",
       "    </tr>\n",
       "  </tbody>\n",
       "</table>\n",
       "<p>8236 rows × 3 columns</p>\n",
       "</div>"
      ],
      "text/plain": [
       "        imdb_id  revenue  year\n",
       "0     tt0069049      0.0  2018\n",
       "1     tt0192528      0.0  2018\n",
       "2     tt0360556      0.0  2018\n",
       "3     tt0365545      0.0  2018\n",
       "4     tt0427543      0.0  2018\n",
       "...         ...      ...   ...\n",
       "8231  tt9904004      0.0  2020\n",
       "8232  tt9904802      0.0  2020\n",
       "8233  tt9911196      0.0  2020\n",
       "8234  tt9916190      0.0  2020\n",
       "8235  tt9916362      0.0  2020\n",
       "\n",
       "[8236 rows x 3 columns]"
      ]
     },
     "execution_count": 137,
     "metadata": {},
     "output_type": "execute_result"
    }
   ],
   "source": [
    "api_2018['year'] = 2018\n",
    "api_2020['year'] = 2020\n",
    "\n",
    "rev_df = pd.concat([api_2018, api_2020], ignore_index=True)\n",
    "rev_df"
   ]
  },
  {
   "cell_type": "code",
   "execution_count": 150,
   "id": "5313ce1a",
   "metadata": {
    "hidden": true
   },
   "outputs": [
    {
     "data": {
      "image/png": "[encoded data removed]",
      "text/plain": [
       "<Figure size 500x500 with 1 Axes>"
      ]
     },
     "metadata": {},
     "output_type": "display_data"
    }
   ],
   "source": [
    "fig, ax = plt.subplots(figsize= (5,5), ncols=1, \n",
    "                                constrained_layout=True)\n",
    "sns.barplot(data = rev_df, x='year',y='revenue')\n",
    "fig.suptitle('Revenue in movies released in 2018 vs 2020');"
   ]
  },
  {
   "cell_type": "markdown",
   "id": "1a664aae",
   "metadata": {},
   "source": [
    "## Notes"
   ]
  },
  {
   "cell_type": "markdown",
   "id": "ea501808",
   "metadata": {},
   "source": [
    "I will clean up this notebook when I am not working full time at my new job. I just don't have the time right now to fully dedicate to it. "
   ]
  }
 ],
 "metadata": {
  "kernelspec": {
   "display_name": "Python (dojo-env)",
   "language": "python",
   "name": "dojo-env"
  },
  "language_info": {
   "codemirror_mode": {
    "name": "ipython",
    "version": 3
   },
   "file_extension": ".py",
   "mimetype": "text/x-python",
   "name": "python",
   "nbconvert_exporter": "python",
   "pygments_lexer": "ipython3",
   "version": "3.9.15"
  },
  "toc": {
   "base_numbering": 1,
   "nav_menu": {},
   "number_sections": true,
   "sideBar": true,
   "skip_h1_title": false,
   "title_cell": "Table of Contents",
   "title_sidebar": "Contents",
   "toc_cell": false,
   "toc_position": {},
   "toc_section_display": true,
   "toc_window_display": false
  }
 },
 "nbformat": 4,
 "nbformat_minor": 5
}
