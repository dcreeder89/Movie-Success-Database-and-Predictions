{
 "cells": [
  {
   "cell_type": "markdown",
   "id": "12d3b5a5",
   "metadata": {},
   "source": [
    "# Preprocessing Movie Data"
   ]
  },
  {
   "cell_type": "code",
   "execution_count": 27,
   "id": "5e0853de",
   "metadata": {},
   "outputs": [],
   "source": [
    "# Import Libraries \n",
    "import pandas as pd\n",
    "import numpy as np\n",
    "import os"
   ]
  },
  {
   "cell_type": "markdown",
   "id": "6b6528d0",
   "metadata": {
    "heading_collapsed": true
   },
   "source": [
    "## Import Dataframes"
   ]
  },
  {
   "cell_type": "code",
   "execution_count": 3,
   "id": "875fc756",
   "metadata": {
    "hidden": true
   },
   "outputs": [],
   "source": [
    "# Save all url's for the datasets\n",
    "basics_url = 'https://datasets.imdbws.com/title.basics.tsv.gz'\n",
    "ratings_url = 'https://datasets.imdbws.com/title.ratings.tsv.gz'\n",
    "akas_url = 'https://datasets.imdbws.com/title.akas.tsv.gz'"
   ]
  },
  {
   "cell_type": "code",
   "execution_count": 4,
   "id": "3b34be6e",
   "metadata": {
    "hidden": true
   },
   "outputs": [],
   "source": [
    "# Convert data sets into dataframes\n",
    "basics = pd.read_csv(basics_url, sep='\\t', low_memory=False)\n",
    "ratings = pd.read_csv(ratings_url, sep='\\t', low_memory=False)\n",
    "akas = pd.read_csv(akas_url, sep='\\t', low_memory=False)"
   ]
  },
  {
   "cell_type": "code",
   "execution_count": 5,
   "id": "14392cbb",
   "metadata": {
    "hidden": true
   },
   "outputs": [],
   "source": [
    "# Replace \\N with NaN in all the dataframes\n",
    "basics.replace({'\\\\N':np.nan}, inplace=True)\n",
    "ratings.replace({'\\\\N':np.nan}, inplace=True)\n",
    "akas.replace({'\\\\N':np.nan}, inplace=True)"
   ]
  },
  {
   "cell_type": "code",
   "execution_count": 6,
   "id": "4d2c1107",
   "metadata": {
    "hidden": true
   },
   "outputs": [
    {
     "name": "stdout",
     "output_type": "stream",
     "text": [
      "Duplicate rows in basics dataframe: 0\n",
      "Duplicate rows in ratings dataframe: 0\n",
      "Duplicate rows in akas dataframe: 0\n"
     ]
    }
   ],
   "source": [
    "# check for duplicate rows in dataframes\n",
    "print(f'Duplicate rows in basics dataframe:', basics.duplicated().sum())\n",
    "print(f'Duplicate rows in ratings dataframe:', ratings.duplicated().sum())\n",
    "print(f'Duplicate rows in akas dataframe:', akas.duplicated().sum())"
   ]
  },
  {
   "cell_type": "markdown",
   "id": "13af84d5",
   "metadata": {
    "heading_collapsed": true
   },
   "source": [
    "## Cleaning Dataframes"
   ]
  },
  {
   "cell_type": "markdown",
   "id": "3191c0c6",
   "metadata": {
    "heading_collapsed": true,
    "hidden": true
   },
   "source": [
    "### Cleaning AKAs Dataframe"
   ]
  },
  {
   "cell_type": "code",
   "execution_count": 7,
   "id": "b80123d2",
   "metadata": {
    "hidden": true
   },
   "outputs": [
    {
     "name": "stdout",
     "output_type": "stream",
     "text": [
      "<class 'pandas.core.frame.DataFrame'>\n",
      "RangeIndex: 35165559 entries, 0 to 35165558\n",
      "Data columns (total 8 columns):\n",
      " #   Column           Dtype \n",
      "---  ------           ----- \n",
      " 0   titleId          object\n",
      " 1   ordering         int64 \n",
      " 2   title            object\n",
      " 3   region           object\n",
      " 4   language         object\n",
      " 5   types            object\n",
      " 6   attributes       object\n",
      " 7   isOriginalTitle  object\n",
      "dtypes: int64(1), object(7)\n",
      "memory usage: 2.1+ GB\n"
     ]
    }
   ],
   "source": [
    "# Display info for AKAs dataframe\n",
    "akas.info()"
   ]
  },
  {
   "cell_type": "code",
   "execution_count": 8,
   "id": "78520d7a",
   "metadata": {
    "hidden": true
   },
   "outputs": [
    {
     "data": {
      "text/plain": [
       "DE    4205742\n",
       "FR    4201899\n",
       "JP    4201560\n",
       "IN    4140891\n",
       "ES    4123662\n",
       "       ...   \n",
       "CC          1\n",
       "TV          1\n",
       "NU          1\n",
       "PW          1\n",
       "NR          1\n",
       "Name: region, Length: 247, dtype: int64"
      ]
     },
     "execution_count": 8,
     "metadata": {},
     "output_type": "execute_result"
    }
   ],
   "source": [
    "# Check value_counts for region column\n",
    "akas['region'].value_counts()"
   ]
  },
  {
   "cell_type": "code",
   "execution_count": 9,
   "id": "ebea5b0b",
   "metadata": {
    "hidden": true
   },
   "outputs": [
    {
     "data": {
      "text/plain": [
       "US    1419540\n",
       "Name: region, dtype: int64"
      ]
     },
     "execution_count": 9,
     "metadata": {},
     "output_type": "execute_result"
    }
   ],
   "source": [
    "# Keep only movies in US region\n",
    "akas = akas.loc[akas['region'] == 'US']\n",
    "akas['region'].value_counts()"
   ]
  },
  {
   "cell_type": "code",
   "execution_count": 10,
   "id": "6f6ab89a",
   "metadata": {
    "hidden": true
   },
   "outputs": [
    {
     "name": "stdout",
     "output_type": "stream",
     "text": [
      "<class 'pandas.core.frame.DataFrame'>\n",
      "Int64Index: 1419540 entries, 5 to 35165303\n",
      "Data columns (total 8 columns):\n",
      " #   Column           Non-Null Count    Dtype \n",
      "---  ------           --------------    ----- \n",
      " 0   titleId          1419540 non-null  object\n",
      " 1   ordering         1419540 non-null  int64 \n",
      " 2   title            1419540 non-null  object\n",
      " 3   region           1419540 non-null  object\n",
      " 4   language         3844 non-null     object\n",
      " 5   types            975140 non-null   object\n",
      " 6   attributes       46137 non-null    object\n",
      " 7   isOriginalTitle  1418195 non-null  object\n",
      "dtypes: int64(1), object(7)\n",
      "memory usage: 97.5+ MB\n"
     ]
    }
   ],
   "source": [
    "# Check info of akas dataframe\n",
    "akas.info()"
   ]
  },
  {
   "cell_type": "markdown",
   "id": "ea6a1ac1",
   "metadata": {
    "heading_collapsed": true,
    "hidden": true
   },
   "source": [
    "### Cleaning Title Basics Dataframe"
   ]
  },
  {
   "cell_type": "code",
   "execution_count": 11,
   "id": "d4497c16",
   "metadata": {
    "hidden": true
   },
   "outputs": [
    {
     "name": "stdout",
     "output_type": "stream",
     "text": [
      "<class 'pandas.core.frame.DataFrame'>\n",
      "RangeIndex: 9669713 entries, 0 to 9669712\n",
      "Data columns (total 9 columns):\n",
      " #   Column          Dtype \n",
      "---  ------          ----- \n",
      " 0   tconst          object\n",
      " 1   titleType       object\n",
      " 2   primaryTitle    object\n",
      " 3   originalTitle   object\n",
      " 4   isAdult         object\n",
      " 5   startYear       object\n",
      " 6   endYear         object\n",
      " 7   runtimeMinutes  object\n",
      " 8   genres          object\n",
      "dtypes: object(9)\n",
      "memory usage: 664.0+ MB\n"
     ]
    }
   ],
   "source": [
    "# Display info for title basics dataframe\n",
    "basics.info()"
   ]
  },
  {
   "cell_type": "code",
   "execution_count": 12,
   "id": "af960806",
   "metadata": {
    "hidden": true
   },
   "outputs": [
    {
     "name": "stdout",
     "output_type": "stream",
     "text": [
      "NaN count in runtimeMinutes column: 6834026\n",
      "NaN count after eliminating null rows: 0\n"
     ]
    }
   ],
   "source": [
    "# Eliminate movies that are null for runtimeMinutes\n",
    "print(f'NaN count in runtimeMinutes column:', basics['runtimeMinutes'].isna().sum())\n",
    "basics.dropna(subset=['runtimeMinutes'], inplace=True)\n",
    "print(f'NaN count after eliminating null rows:',basics['runtimeMinutes'].isna().sum())"
   ]
  },
  {
   "cell_type": "code",
   "execution_count": 13,
   "id": "8f757bfc",
   "metadata": {
    "hidden": true
   },
   "outputs": [
    {
     "name": "stdout",
     "output_type": "stream",
     "text": [
      "NaN count in genre column: 75976\n",
      "NaN count after eliminating null rows: 0\n"
     ]
    }
   ],
   "source": [
    "# Eliminate movies that are null for genre\n",
    "print(f'NaN count in genre column:', basics['genres'].isna().sum())\n",
    "basics.dropna(subset=['genres'], inplace=True)\n",
    "print(f'NaN count after eliminating null rows:',basics['genres'].isna().sum())"
   ]
  },
  {
   "cell_type": "code",
   "execution_count": 14,
   "id": "2c11cf35",
   "metadata": {
    "hidden": true
   },
   "outputs": [
    {
     "data": {
      "text/plain": [
       "tvEpisode       1384066\n",
       "short            593724\n",
       "movie            378414\n",
       "video            179264\n",
       "tvMovie           91013\n",
       "tvSeries          89533\n",
       "tvSpecial         17775\n",
       "tvMiniSeries      16921\n",
       "tvShort            8683\n",
       "videoGame           318\n",
       "Name: titleType, dtype: int64"
      ]
     },
     "execution_count": 14,
     "metadata": {},
     "output_type": "execute_result"
    }
   ],
   "source": [
    "# Check value_counts for the titleType column\n",
    "basics['titleType'].value_counts()"
   ]
  },
  {
   "cell_type": "code",
   "execution_count": 15,
   "id": "88294456",
   "metadata": {
    "hidden": true
   },
   "outputs": [
    {
     "data": {
      "text/plain": [
       "movie    378414\n",
       "Name: titleType, dtype: int64"
      ]
     },
     "execution_count": 15,
     "metadata": {},
     "output_type": "execute_result"
    }
   ],
   "source": [
    "# Keep only rows in which titleType == movie\n",
    "basics = basics.loc[basics['titleType'] == 'movie']\n",
    "basics['titleType'].value_counts()"
   ]
  },
  {
   "cell_type": "code",
   "execution_count": 16,
   "id": "83c712f8",
   "metadata": {
    "hidden": true
   },
   "outputs": [
    {
     "data": {
      "text/plain": [
       "0"
      ]
     },
     "execution_count": 16,
     "metadata": {},
     "output_type": "execute_result"
    }
   ],
   "source": [
    "# Remove movies that are null for the startYear\n",
    "# we will do this because we only want to keep movies with a startYear between\n",
    "# 2000 - 2021, and null values are not between those years\n",
    "basics.dropna(subset = ['startYear'], inplace=True)\n",
    "basics['startYear'].isna().sum()"
   ]
  },
  {
   "cell_type": "code",
   "execution_count": 17,
   "id": "a1584b44",
   "metadata": {
    "hidden": true
   },
   "outputs": [
    {
     "data": {
      "text/plain": [
       "tconst            object\n",
       "titleType         object\n",
       "primaryTitle      object\n",
       "originalTitle     object\n",
       "isAdult           object\n",
       "startYear          int32\n",
       "endYear           object\n",
       "runtimeMinutes    object\n",
       "genres            object\n",
       "dtype: object"
      ]
     },
     "execution_count": 17,
     "metadata": {},
     "output_type": "execute_result"
    }
   ],
   "source": [
    "# convert start year column to type integer\n",
    "basics['startYear'] = basics['startYear'].astype(int)\n",
    "basics.dtypes"
   ]
  },
  {
   "cell_type": "code",
   "execution_count": 18,
   "id": "d0ccf8f9",
   "metadata": {
    "hidden": true
   },
   "outputs": [],
   "source": [
    "# Keep rows with startYear between 2000 - 2022\n",
    "basics = basics.loc[(basics['startYear'] >= 2000) & (basics['startYear'] <= 2021)]"
   ]
  },
  {
   "cell_type": "code",
   "execution_count": 19,
   "id": "5e5d7577",
   "metadata": {
    "hidden": true
   },
   "outputs": [
    {
     "data": {
      "text/plain": [
       "count    209638.000000\n",
       "mean       2012.838588\n",
       "std           5.611237\n",
       "min        2000.000000\n",
       "25%        2009.000000\n",
       "50%        2014.000000\n",
       "75%        2017.000000\n",
       "max        2021.000000\n",
       "Name: startYear, dtype: float64"
      ]
     },
     "execution_count": 19,
     "metadata": {},
     "output_type": "execute_result"
    }
   ],
   "source": [
    "# check that startYear column only kept data between 2000 - 2021\n",
    "basics['startYear'].describe()"
   ]
  },
  {
   "cell_type": "code",
   "execution_count": 20,
   "id": "eb4ea23a",
   "metadata": {
    "hidden": true
   },
   "outputs": [],
   "source": [
    "# Eliminate movies that include 'Documentary' in the genre \n",
    "is_documentary = basics['genres'].str.contains('documentary', case=False)\n",
    "basics = basics[~is_documentary]"
   ]
  },
  {
   "cell_type": "code",
   "execution_count": 21,
   "id": "d8ffc9cf",
   "metadata": {
    "hidden": true
   },
   "outputs": [],
   "source": [
    "# Keep only movies made in the US region (as defined by the akas dataframe)\n",
    "keepers = basics['tconst'].isin(akas['titleId'])\n",
    "basics = basics[keepers]"
   ]
  },
  {
   "cell_type": "code",
   "execution_count": 22,
   "id": "cf3dd477",
   "metadata": {
    "hidden": true
   },
   "outputs": [
    {
     "name": "stdout",
     "output_type": "stream",
     "text": [
      "<class 'pandas.core.frame.DataFrame'>\n",
      "Int64Index: 81112 entries, 34803 to 9669479\n",
      "Data columns (total 9 columns):\n",
      " #   Column          Non-Null Count  Dtype \n",
      "---  ------          --------------  ----- \n",
      " 0   tconst          81112 non-null  object\n",
      " 1   titleType       81112 non-null  object\n",
      " 2   primaryTitle    81112 non-null  object\n",
      " 3   originalTitle   81112 non-null  object\n",
      " 4   isAdult         81112 non-null  object\n",
      " 5   startYear       81112 non-null  int32 \n",
      " 6   endYear         0 non-null      object\n",
      " 7   runtimeMinutes  81112 non-null  object\n",
      " 8   genres          81112 non-null  object\n",
      "dtypes: int32(1), object(8)\n",
      "memory usage: 5.9+ MB\n"
     ]
    }
   ],
   "source": [
    "# Check info of basics dataframe\n",
    "basics.info()"
   ]
  },
  {
   "cell_type": "markdown",
   "id": "129df2f6",
   "metadata": {
    "heading_collapsed": true,
    "hidden": true
   },
   "source": [
    "### Cleaning Title Ratings Dataframe"
   ]
  },
  {
   "cell_type": "code",
   "execution_count": 23,
   "id": "b0c6850a",
   "metadata": {
    "hidden": true
   },
   "outputs": [
    {
     "name": "stdout",
     "output_type": "stream",
     "text": [
      "<class 'pandas.core.frame.DataFrame'>\n",
      "RangeIndex: 1286868 entries, 0 to 1286867\n",
      "Data columns (total 3 columns):\n",
      " #   Column         Non-Null Count    Dtype  \n",
      "---  ------         --------------    -----  \n",
      " 0   tconst         1286868 non-null  object \n",
      " 1   averageRating  1286868 non-null  float64\n",
      " 2   numVotes       1286868 non-null  int64  \n",
      "dtypes: float64(1), int64(1), object(1)\n",
      "memory usage: 29.5+ MB\n"
     ]
    }
   ],
   "source": [
    "# check info for ratings dataframe\n",
    "ratings.info()"
   ]
  },
  {
   "cell_type": "code",
   "execution_count": 24,
   "id": "95f7de5d",
   "metadata": {
    "hidden": true
   },
   "outputs": [],
   "source": [
    "# Keep only movies made in the US region (as defined by the akas dataframe)\n",
    "keepers = ratings['tconst'].isin(akas['titleId'])\n",
    "ratings = ratings[keepers]"
   ]
  },
  {
   "cell_type": "code",
   "execution_count": 25,
   "id": "2c823830",
   "metadata": {
    "hidden": true
   },
   "outputs": [
    {
     "name": "stdout",
     "output_type": "stream",
     "text": [
      "<class 'pandas.core.frame.DataFrame'>\n",
      "Int64Index: 491345 entries, 0 to 1286846\n",
      "Data columns (total 3 columns):\n",
      " #   Column         Non-Null Count   Dtype  \n",
      "---  ------         --------------   -----  \n",
      " 0   tconst         491345 non-null  object \n",
      " 1   averageRating  491345 non-null  float64\n",
      " 2   numVotes       491345 non-null  int64  \n",
      "dtypes: float64(1), int64(1), object(1)\n",
      "memory usage: 15.0+ MB\n"
     ]
    }
   ],
   "source": [
    "# check info of ratings dataframe\n",
    "ratings.info()"
   ]
  },
  {
   "cell_type": "markdown",
   "id": "54551bdd",
   "metadata": {
    "heading_collapsed": true
   },
   "source": [
    "## Saving Dataframes in the GitHub Repository"
   ]
  },
  {
   "cell_type": "code",
   "execution_count": 28,
   "id": "061968f8",
   "metadata": {
    "hidden": true
   },
   "outputs": [
    {
     "data": {
      "text/plain": [
       "['blue_long_2-9665a76b1ae401a510ec1e0ca40ddcb3b0cfe45f1d51b77a308fea0845885648.svg',\n",
       " 'final_tmdb_data_2000.csv.gz',\n",
       " 'final_tmdb_data_2001.csv.gz',\n",
       " 'test_json.json',\n",
       " 'title_akas.csv.gz',\n",
       " 'title_basics.csv.gz',\n",
       " 'title_ratings.csv.gz',\n",
       " 'tmdb_api_results_2000.json',\n",
       " 'tmdb_api_results_2001.json',\n",
       " 'tmdb_results_combined.csv.gz']"
      ]
     },
     "execution_count": 28,
     "metadata": {},
     "output_type": "execute_result"
    }
   ],
   "source": [
    "# Create 'Data/' file in GitHub Repository\n",
    "os.makedirs('Data/', exist_ok=True)\n",
    "# confirm the folder is created\n",
    "os.listdir(\"Data/\")"
   ]
  },
  {
   "cell_type": "code",
   "execution_count": 29,
   "id": "73379d72",
   "metadata": {
    "hidden": true
   },
   "outputs": [],
   "source": [
    "# save dataframes to files\n",
    "basics.to_csv(\"Data/title_basics.csv.gz\", compression='gzip', index=False)\n",
    "ratings.to_csv(\"Data/title_ratings.csv.gz\", compression='gzip', index=False)\n",
    "akas.to_csv(\"Data/title_akas.csv.gz\", compression='gzip', index=False)"
   ]
  },
  {
   "cell_type": "code",
   "execution_count": 30,
   "id": "90edd160",
   "metadata": {
    "hidden": true
   },
   "outputs": [
    {
     "name": "stdout",
     "output_type": "stream",
     "text": [
      "<class 'pandas.core.frame.DataFrame'>\n",
      "RangeIndex: 81112 entries, 0 to 81111\n",
      "Data columns (total 9 columns):\n",
      " #   Column          Non-Null Count  Dtype  \n",
      "---  ------          --------------  -----  \n",
      " 0   tconst          81112 non-null  object \n",
      " 1   titleType       81112 non-null  object \n",
      " 2   primaryTitle    81112 non-null  object \n",
      " 3   originalTitle   81112 non-null  object \n",
      " 4   isAdult         81112 non-null  int64  \n",
      " 5   startYear       81112 non-null  int64  \n",
      " 6   endYear         0 non-null      float64\n",
      " 7   runtimeMinutes  81112 non-null  int64  \n",
      " 8   genres          81112 non-null  object \n",
      "dtypes: float64(1), int64(3), object(5)\n",
      "memory usage: 5.6+ MB\n"
     ]
    }
   ],
   "source": [
    "# check basics dataframe was saved correctly\n",
    "basics = pd.read_csv(\"Data/title_basics.csv.gz\", low_memory=False)\n",
    "basics.info()"
   ]
  },
  {
   "cell_type": "code",
   "execution_count": 31,
   "id": "ac57d304",
   "metadata": {
    "hidden": true
   },
   "outputs": [
    {
     "name": "stdout",
     "output_type": "stream",
     "text": [
      "<class 'pandas.core.frame.DataFrame'>\n",
      "RangeIndex: 491345 entries, 0 to 491344\n",
      "Data columns (total 3 columns):\n",
      " #   Column         Non-Null Count   Dtype  \n",
      "---  ------         --------------   -----  \n",
      " 0   tconst         491345 non-null  object \n",
      " 1   averageRating  491345 non-null  float64\n",
      " 2   numVotes       491345 non-null  int64  \n",
      "dtypes: float64(1), int64(1), object(1)\n",
      "memory usage: 11.2+ MB\n"
     ]
    }
   ],
   "source": [
    "# check ratings dataframe was saved correctly\n",
    "ratings = pd.read_csv(\"Data/title_ratings.csv.gz\", low_memory=False)\n",
    "ratings.info()"
   ]
  },
  {
   "cell_type": "code",
   "execution_count": 32,
   "id": "3d4a420f",
   "metadata": {
    "hidden": true
   },
   "outputs": [
    {
     "name": "stdout",
     "output_type": "stream",
     "text": [
      "<class 'pandas.core.frame.DataFrame'>\n",
      "RangeIndex: 1419540 entries, 0 to 1419539\n",
      "Data columns (total 8 columns):\n",
      " #   Column           Non-Null Count    Dtype  \n",
      "---  ------           --------------    -----  \n",
      " 0   titleId          1419540 non-null  object \n",
      " 1   ordering         1419540 non-null  int64  \n",
      " 2   title            1419540 non-null  object \n",
      " 3   region           1419540 non-null  object \n",
      " 4   language         3844 non-null     object \n",
      " 5   types            975140 non-null   object \n",
      " 6   attributes       46137 non-null    object \n",
      " 7   isOriginalTitle  1418195 non-null  float64\n",
      "dtypes: float64(1), int64(1), object(6)\n",
      "memory usage: 86.6+ MB\n"
     ]
    }
   ],
   "source": [
    "# check akas dataframe was saved correctly\n",
    "akas = pd.read_csv(\"Data/title_akas.csv.gz\", low_memory=False)\n",
    "akas.info()"
   ]
  }
 ],
 "metadata": {
  "kernelspec": {
   "display_name": "Python (dojo-env)",
   "language": "python",
   "name": "dojo-env"
  },
  "language_info": {
   "codemirror_mode": {
    "name": "ipython",
    "version": 3
   },
   "file_extension": ".py",
   "mimetype": "text/x-python",
   "name": "python",
   "nbconvert_exporter": "python",
   "pygments_lexer": "ipython3",
   "version": "3.9.15"
  },
  "toc": {
   "base_numbering": 1,
   "nav_menu": {},
   "number_sections": true,
   "sideBar": true,
   "skip_h1_title": false,
   "title_cell": "Table of Contents",
   "title_sidebar": "Contents",
   "toc_cell": false,
   "toc_position": {},
   "toc_section_display": true,
   "toc_window_display": false
  }
 },
 "nbformat": 4,
 "nbformat_minor": 5
}
