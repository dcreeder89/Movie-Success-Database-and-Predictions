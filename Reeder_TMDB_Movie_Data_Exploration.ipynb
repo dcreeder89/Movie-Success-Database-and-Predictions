{
 "cells": [
  {
   "cell_type": "markdown",
   "id": "3ea5fdbe",
   "metadata": {},
   "source": [
    "# Movie Success Predictions"
   ]
  },
  {
   "cell_type": "code",
   "execution_count": 1,
   "id": "e5dbcc9e",
   "metadata": {},
   "outputs": [],
   "source": [
    "# Import Libraries \n",
    "import pandas as pd\n",
    "import numpy as np\n",
    "import os, json, time\n",
    "from tqdm.notebook import tqdm_notebook "
   ]
  },
  {
   "cell_type": "markdown",
   "id": "699decfa",
   "metadata": {
    "heading_collapsed": true
   },
   "source": [
    "## User Defined Functions"
   ]
  },
  {
   "cell_type": "markdown",
   "id": "c02863e5",
   "metadata": {
    "heading_collapsed": true,
    "hidden": true
   },
   "source": [
    "### get_movie_with_rating Function"
   ]
  },
  {
   "cell_type": "code",
   "execution_count": 2,
   "id": "27b4052b",
   "metadata": {
    "hidden": true
   },
   "outputs": [],
   "source": [
    "# function to get movie raiting from tmdb api\n",
    "def get_movie_with_rating(movie_id):\n",
    "    \"\"\"Adapted from source = https://github.com/celiao/tmdbsimple\"\"\"\n",
    "    # get movie object for current id\n",
    "    movie = tmdb.Movies(movie_id)\n",
    "    \n",
    "    # save the .info .releases dictionaries\n",
    "    info = movie.info()\n",
    "    releases = movie.releases()\n",
    "    \n",
    "    # loop through countries in releases\n",
    "    for c in releases['countries']:\n",
    "        # if country abbreviation==US\n",
    "        if c['iso_3166_1'] == 'US':\n",
    "            # save a 'certification' key in info with the certification\n",
    "            info['certification'] = c['certification']\n",
    "    \n",
    "    return info"
   ]
  },
  {
   "cell_type": "markdown",
   "id": "4a261376",
   "metadata": {
    "heading_collapsed": true,
    "hidden": true
   },
   "source": [
    "#### Test get_movie_with_rating Function"
   ]
  },
  {
   "cell_type": "markdown",
   "id": "c9c4fe6d",
   "metadata": {
    "hidden": true
   },
   "source": [
    "Test with The Avengers"
   ]
  },
  {
   "cell_type": "code",
   "execution_count": 41,
   "id": "e181b1f8",
   "metadata": {
    "hidden": true
   },
   "outputs": [
    {
     "data": {
      "text/plain": [
       "{'adult': False,\n",
       " 'backdrop_path': '/9BBTo63ANSmhC4e6r62OJFuK2GL.jpg',\n",
       " 'belongs_to_collection': {'id': 86311,\n",
       "  'name': 'The Avengers Collection',\n",
       "  'poster_path': '/yFSIUVTCvgYrpalUktulvk3Gi5Y.jpg',\n",
       "  'backdrop_path': '/zuW6fOiusv4X9nnW3paHGfXcSll.jpg'},\n",
       " 'budget': 220000000,\n",
       " 'genres': [{'id': 878, 'name': 'Science Fiction'},\n",
       "  {'id': 28, 'name': 'Action'},\n",
       "  {'id': 12, 'name': 'Adventure'}],\n",
       " 'homepage': 'https://www.marvel.com/movies/the-avengers',\n",
       " 'id': 24428,\n",
       " 'imdb_id': 'tt0848228',\n",
       " 'original_language': 'en',\n",
       " 'original_title': 'The Avengers',\n",
       " 'overview': 'When an unexpected enemy emerges and threatens global safety and security, Nick Fury, director of the international peacekeeping agency known as S.H.I.E.L.D., finds himself in need of a team to pull the world back from the brink of disaster. Spanning the globe, a daring recruitment effort begins!',\n",
       " 'popularity': 146.526,\n",
       " 'poster_path': '/RYMX2wcKCBAr24UyPD7xwmjaTn.jpg',\n",
       " 'production_companies': [{'id': 420,\n",
       "   'logo_path': '/hUzeosd33nzE5MCNsZxCGEKTXaQ.png',\n",
       "   'name': 'Marvel Studios',\n",
       "   'origin_country': 'US'}],\n",
       " 'production_countries': [{'iso_3166_1': 'US',\n",
       "   'name': 'United States of America'}],\n",
       " 'release_date': '2012-04-25',\n",
       " 'revenue': 1518815515,\n",
       " 'runtime': 143,\n",
       " 'spoken_languages': [{'english_name': 'English',\n",
       "   'iso_639_1': 'en',\n",
       "   'name': 'English'},\n",
       "  {'english_name': 'Hindi', 'iso_639_1': 'hi', 'name': 'हिन्दी'},\n",
       "  {'english_name': 'Russian', 'iso_639_1': 'ru', 'name': 'Pусский'}],\n",
       " 'status': 'Released',\n",
       " 'tagline': 'Some assembly required.',\n",
       " 'title': 'The Avengers',\n",
       " 'video': False,\n",
       " 'vote_average': 7.7,\n",
       " 'vote_count': 28252,\n",
       " 'certification': 'PG-13'}"
      ]
     },
     "execution_count": 41,
     "metadata": {},
     "output_type": "execute_result"
    }
   ],
   "source": [
    "test1 = get_movie_with_rating('tt0848228')\n",
    "test1"
   ]
  },
  {
   "cell_type": "markdown",
   "id": "43b2742c",
   "metadata": {
    "hidden": true
   },
   "source": [
    "Test with The Notebook "
   ]
  },
  {
   "cell_type": "code",
   "execution_count": 42,
   "id": "bfea9c71",
   "metadata": {
    "hidden": true
   },
   "outputs": [
    {
     "data": {
      "text/plain": [
       "{'adult': False,\n",
       " 'backdrop_path': '/qom1SZSENdmHFNZBXbtJAU0WTlC.jpg',\n",
       " 'belongs_to_collection': None,\n",
       " 'budget': 29000000,\n",
       " 'genres': [{'id': 10749, 'name': 'Romance'}, {'id': 18, 'name': 'Drama'}],\n",
       " 'homepage': 'http://www.newline.com/properties/notebookthe.html',\n",
       " 'id': 11036,\n",
       " 'imdb_id': 'tt0332280',\n",
       " 'original_language': 'en',\n",
       " 'original_title': 'The Notebook',\n",
       " 'overview': \"An epic love story centered around an older man who reads aloud to a woman with Alzheimer's. From a faded notebook, the old man's words bring to life the story about a couple who is separated by World War II, and is then passionately reunited, seven years later, after they have taken different paths.\",\n",
       " 'popularity': 55.267,\n",
       " 'poster_path': '/rNzQyW4f8B8cQeg7Dgj3n6eT5k9.jpg',\n",
       " 'production_companies': [{'id': 12,\n",
       "   'logo_path': '/iaYpEp3LQmb8AfAtmTvpqd4149c.png',\n",
       "   'name': 'New Line Cinema',\n",
       "   'origin_country': 'US'},\n",
       "  {'id': 1565, 'logo_path': None, 'name': 'Avery Pix', 'origin_country': 'US'},\n",
       "  {'id': 2605,\n",
       "   'logo_path': None,\n",
       "   'name': 'Gran Via Productions',\n",
       "   'origin_country': 'US'}],\n",
       " 'production_countries': [{'iso_3166_1': 'US',\n",
       "   'name': 'United States of America'}],\n",
       " 'release_date': '2004-06-25',\n",
       " 'revenue': 115603229,\n",
       " 'runtime': 123,\n",
       " 'spoken_languages': [{'english_name': 'English',\n",
       "   'iso_639_1': 'en',\n",
       "   'name': 'English'}],\n",
       " 'status': 'Released',\n",
       " 'tagline': 'Behind every great love is a great story.',\n",
       " 'title': 'The Notebook',\n",
       " 'video': False,\n",
       " 'vote_average': 7.878,\n",
       " 'vote_count': 10179,\n",
       " 'certification': 'PG-13'}"
      ]
     },
     "execution_count": 42,
     "metadata": {},
     "output_type": "execute_result"
    }
   ],
   "source": [
    "test2 = get_movie_with_rating('tt0332280')\n",
    "test2"
   ]
  },
  {
   "cell_type": "markdown",
   "id": "284e1b5b",
   "metadata": {
    "hidden": true
   },
   "source": [
    "The function works as predicted."
   ]
  },
  {
   "cell_type": "markdown",
   "id": "3a6a37db",
   "metadata": {
    "heading_collapsed": true,
    "hidden": true
   },
   "source": [
    "### write_json Function"
   ]
  },
  {
   "cell_type": "code",
   "execution_count": 3,
   "id": "8684274e",
   "metadata": {
    "hidden": true
   },
   "outputs": [],
   "source": [
    "# appends a list of records (new_data) to a json file\n",
    "# addapted from : https://www.geeksforgeeks.org/append-to-json-file-using-python/\n",
    "\n",
    "def write_json(new_data, filename):\n",
    "    with open(filename,'r+') as file:\n",
    "        # first load existing data into dict\n",
    "        file_data = json.load(file)\n",
    "        # choose extend or append\n",
    "        if (type(new_data) == list) & (type(file_data) == list):\n",
    "            file_data.extend(new_data)\n",
    "        else:\n",
    "            file_data.append(new_data)\n",
    "        # set file's current position at offset\n",
    "        file.seek(0)\n",
    "        # convert back to json\n",
    "        json.dump(file_data, file)"
   ]
  },
  {
   "cell_type": "markdown",
   "id": "9d15e6e7",
   "metadata": {
    "heading_collapsed": true,
    "hidden": true
   },
   "source": [
    "#### Test write_json Function"
   ]
  },
  {
   "cell_type": "code",
   "execution_count": 46,
   "id": "d421f89e",
   "metadata": {
    "hidden": true
   },
   "outputs": [],
   "source": [
    "# create new json file with empty list\n",
    "JSON_FILE = 'Data/test_json.json'\n",
    "with open(JSON_FILE,'w') as f:\n",
    "    json.dump([],f)\n",
    "write_json(test1, JSON_FILE)\n",
    "write_json(test2, JSON_FILE)"
   ]
  },
  {
   "cell_type": "code",
   "execution_count": 47,
   "id": "fd0b44fb",
   "metadata": {
    "hidden": true
   },
   "outputs": [
    {
     "data": {
      "text/html": [
       "<div>\n",
       "<style scoped>\n",
       "    .dataframe tbody tr th:only-of-type {\n",
       "        vertical-align: middle;\n",
       "    }\n",
       "\n",
       "    .dataframe tbody tr th {\n",
       "        vertical-align: top;\n",
       "    }\n",
       "\n",
       "    .dataframe thead th {\n",
       "        text-align: right;\n",
       "    }\n",
       "</style>\n",
       "<table border=\"1\" class=\"dataframe\">\n",
       "  <thead>\n",
       "    <tr style=\"text-align: right;\">\n",
       "      <th></th>\n",
       "      <th>adult</th>\n",
       "      <th>backdrop_path</th>\n",
       "      <th>belongs_to_collection</th>\n",
       "      <th>budget</th>\n",
       "      <th>genres</th>\n",
       "      <th>homepage</th>\n",
       "      <th>id</th>\n",
       "      <th>imdb_id</th>\n",
       "      <th>original_language</th>\n",
       "      <th>original_title</th>\n",
       "      <th>...</th>\n",
       "      <th>revenue</th>\n",
       "      <th>runtime</th>\n",
       "      <th>spoken_languages</th>\n",
       "      <th>status</th>\n",
       "      <th>tagline</th>\n",
       "      <th>title</th>\n",
       "      <th>video</th>\n",
       "      <th>vote_average</th>\n",
       "      <th>vote_count</th>\n",
       "      <th>certification</th>\n",
       "    </tr>\n",
       "  </thead>\n",
       "  <tbody>\n",
       "    <tr>\n",
       "      <th>0</th>\n",
       "      <td>False</td>\n",
       "      <td>/9BBTo63ANSmhC4e6r62OJFuK2GL.jpg</td>\n",
       "      <td>{'id': 86311, 'name': 'The Avengers Collection...</td>\n",
       "      <td>220000000</td>\n",
       "      <td>[{'id': 878, 'name': 'Science Fiction'}, {'id'...</td>\n",
       "      <td>https://www.marvel.com/movies/the-avengers</td>\n",
       "      <td>24428</td>\n",
       "      <td>tt0848228</td>\n",
       "      <td>en</td>\n",
       "      <td>The Avengers</td>\n",
       "      <td>...</td>\n",
       "      <td>1518815515</td>\n",
       "      <td>143</td>\n",
       "      <td>[{'english_name': 'English', 'iso_639_1': 'en'...</td>\n",
       "      <td>Released</td>\n",
       "      <td>Some assembly required.</td>\n",
       "      <td>The Avengers</td>\n",
       "      <td>False</td>\n",
       "      <td>7.700</td>\n",
       "      <td>28252</td>\n",
       "      <td>PG-13</td>\n",
       "    </tr>\n",
       "    <tr>\n",
       "      <th>1</th>\n",
       "      <td>False</td>\n",
       "      <td>/qom1SZSENdmHFNZBXbtJAU0WTlC.jpg</td>\n",
       "      <td>None</td>\n",
       "      <td>29000000</td>\n",
       "      <td>[{'id': 10749, 'name': 'Romance'}, {'id': 18, ...</td>\n",
       "      <td>http://www.newline.com/properties/notebookthe....</td>\n",
       "      <td>11036</td>\n",
       "      <td>tt0332280</td>\n",
       "      <td>en</td>\n",
       "      <td>The Notebook</td>\n",
       "      <td>...</td>\n",
       "      <td>115603229</td>\n",
       "      <td>123</td>\n",
       "      <td>[{'english_name': 'English', 'iso_639_1': 'en'...</td>\n",
       "      <td>Released</td>\n",
       "      <td>Behind every great love is a great story.</td>\n",
       "      <td>The Notebook</td>\n",
       "      <td>False</td>\n",
       "      <td>7.878</td>\n",
       "      <td>10179</td>\n",
       "      <td>PG-13</td>\n",
       "    </tr>\n",
       "  </tbody>\n",
       "</table>\n",
       "<p>2 rows × 26 columns</p>\n",
       "</div>"
      ],
      "text/plain": [
       "   adult                     backdrop_path  \\\n",
       "0  False  /9BBTo63ANSmhC4e6r62OJFuK2GL.jpg   \n",
       "1  False  /qom1SZSENdmHFNZBXbtJAU0WTlC.jpg   \n",
       "\n",
       "                               belongs_to_collection     budget  \\\n",
       "0  {'id': 86311, 'name': 'The Avengers Collection...  220000000   \n",
       "1                                               None   29000000   \n",
       "\n",
       "                                              genres  \\\n",
       "0  [{'id': 878, 'name': 'Science Fiction'}, {'id'...   \n",
       "1  [{'id': 10749, 'name': 'Romance'}, {'id': 18, ...   \n",
       "\n",
       "                                            homepage     id    imdb_id  \\\n",
       "0         https://www.marvel.com/movies/the-avengers  24428  tt0848228   \n",
       "1  http://www.newline.com/properties/notebookthe....  11036  tt0332280   \n",
       "\n",
       "  original_language original_title  ...     revenue  runtime  \\\n",
       "0                en   The Avengers  ...  1518815515      143   \n",
       "1                en   The Notebook  ...   115603229      123   \n",
       "\n",
       "                                    spoken_languages    status  \\\n",
       "0  [{'english_name': 'English', 'iso_639_1': 'en'...  Released   \n",
       "1  [{'english_name': 'English', 'iso_639_1': 'en'...  Released   \n",
       "\n",
       "                                     tagline         title  video  \\\n",
       "0                    Some assembly required.  The Avengers  False   \n",
       "1  Behind every great love is a great story.  The Notebook  False   \n",
       "\n",
       "   vote_average vote_count certification  \n",
       "0         7.700      28252         PG-13  \n",
       "1         7.878      10179         PG-13  \n",
       "\n",
       "[2 rows x 26 columns]"
      ]
     },
     "execution_count": 47,
     "metadata": {},
     "output_type": "execute_result"
    }
   ],
   "source": [
    "# save json file as dataframe and look at info\n",
    "test_df = pd.read_json(JSON_FILE)\n",
    "test_df"
   ]
  },
  {
   "cell_type": "markdown",
   "id": "67d4cdb4",
   "metadata": {
    "hidden": true
   },
   "source": [
    "The function works as predicted. "
   ]
  },
  {
   "cell_type": "markdown",
   "id": "a6511003",
   "metadata": {
    "heading_collapsed": true
   },
   "source": [
    "## Preprocessing Data "
   ]
  },
  {
   "cell_type": "code",
   "execution_count": 4,
   "id": "08530aa8",
   "metadata": {
    "hidden": true
   },
   "outputs": [],
   "source": [
    "# Save all url's for the datasets\n",
    "basics_url = 'https://datasets.imdbws.com/title.basics.tsv.gz'\n",
    "ratings_url = 'https://datasets.imdbws.com/title.ratings.tsv.gz'\n",
    "akas_url = 'https://datasets.imdbws.com/title.akas.tsv.gz'"
   ]
  },
  {
   "cell_type": "code",
   "execution_count": 5,
   "id": "a49e30d0",
   "metadata": {
    "hidden": true
   },
   "outputs": [],
   "source": [
    "# Convert data sets into dataframes\n",
    "basics = pd.read_csv(basics_url, sep='\\t', low_memory=False)\n",
    "ratings = pd.read_csv(ratings_url, sep='\\t', low_memory=False)\n",
    "akas = pd.read_csv(akas_url, sep='\\t', low_memory=False)"
   ]
  },
  {
   "cell_type": "code",
   "execution_count": 6,
   "id": "afc6869d",
   "metadata": {
    "hidden": true
   },
   "outputs": [],
   "source": [
    "# Replace \\N with NaN in all the dataframes\n",
    "basics.replace({'\\\\N':np.nan}, inplace=True)\n",
    "ratings.replace({'\\\\N':np.nan}, inplace=True)\n",
    "akas.replace({'\\\\N':np.nan}, inplace=True)"
   ]
  },
  {
   "cell_type": "code",
   "execution_count": 7,
   "id": "94271183",
   "metadata": {
    "hidden": true
   },
   "outputs": [
    {
     "name": "stdout",
     "output_type": "stream",
     "text": [
      "Duplicate rows in basics dataframe: 0\n",
      "Duplicate rows in ratings dataframe: 0\n",
      "Duplicate rows in akas dataframe: 0\n"
     ]
    }
   ],
   "source": [
    "# check for duplicate rows in dataframes\n",
    "print(f'Duplicate rows in basics dataframe:', basics.duplicated().sum())\n",
    "print(f'Duplicate rows in ratings dataframe:', ratings.duplicated().sum())\n",
    "print(f'Duplicate rows in akas dataframe:', akas.duplicated().sum())"
   ]
  },
  {
   "cell_type": "markdown",
   "id": "cac063e2",
   "metadata": {
    "heading_collapsed": true,
    "hidden": true
   },
   "source": [
    "### Cleaning AKAs Dataframe"
   ]
  },
  {
   "cell_type": "code",
   "execution_count": 8,
   "id": "b0746d2f",
   "metadata": {
    "hidden": true
   },
   "outputs": [
    {
     "name": "stdout",
     "output_type": "stream",
     "text": [
      "<class 'pandas.core.frame.DataFrame'>\n",
      "RangeIndex: 35115304 entries, 0 to 35115303\n",
      "Data columns (total 8 columns):\n",
      " #   Column           Dtype \n",
      "---  ------           ----- \n",
      " 0   titleId          object\n",
      " 1   ordering         int64 \n",
      " 2   title            object\n",
      " 3   region           object\n",
      " 4   language         object\n",
      " 5   types            object\n",
      " 6   attributes       object\n",
      " 7   isOriginalTitle  object\n",
      "dtypes: int64(1), object(7)\n",
      "memory usage: 2.1+ GB\n"
     ]
    }
   ],
   "source": [
    "# Display info for AKAs dataframe\n",
    "akas.info()"
   ]
  },
  {
   "cell_type": "code",
   "execution_count": 9,
   "id": "587ab755",
   "metadata": {
    "hidden": true
   },
   "outputs": [
    {
     "data": {
      "text/plain": [
       "DE    4199276\n",
       "FR    4195721\n",
       "JP    4195378\n",
       "IN    4134627\n",
       "ES    4117485\n",
       "       ...   \n",
       "CC          1\n",
       "TV          1\n",
       "NU          1\n",
       "PW          1\n",
       "NR          1\n",
       "Name: region, Length: 247, dtype: int64"
      ]
     },
     "execution_count": 9,
     "metadata": {},
     "output_type": "execute_result"
    }
   ],
   "source": [
    "# Check value_counts for region column\n",
    "akas['region'].value_counts()"
   ]
  },
  {
   "cell_type": "code",
   "execution_count": 10,
   "id": "4ae1530f",
   "metadata": {
    "hidden": true
   },
   "outputs": [
    {
     "data": {
      "text/plain": [
       "US    1418401\n",
       "Name: region, dtype: int64"
      ]
     },
     "execution_count": 10,
     "metadata": {},
     "output_type": "execute_result"
    }
   ],
   "source": [
    "# Keep only movies in US region\n",
    "akas = akas.loc[akas['region'] == 'US']\n",
    "akas['region'].value_counts()"
   ]
  },
  {
   "cell_type": "code",
   "execution_count": 11,
   "id": "8fc75f46",
   "metadata": {
    "hidden": true
   },
   "outputs": [
    {
     "name": "stdout",
     "output_type": "stream",
     "text": [
      "<class 'pandas.core.frame.DataFrame'>\n",
      "Int64Index: 1418401 entries, 5 to 35115048\n",
      "Data columns (total 8 columns):\n",
      " #   Column           Non-Null Count    Dtype \n",
      "---  ------           --------------    ----- \n",
      " 0   titleId          1418401 non-null  object\n",
      " 1   ordering         1418401 non-null  int64 \n",
      " 2   title            1418401 non-null  object\n",
      " 3   region           1418401 non-null  object\n",
      " 4   language         3840 non-null     object\n",
      " 5   types            974792 non-null   object\n",
      " 6   attributes       46099 non-null    object\n",
      " 7   isOriginalTitle  1417056 non-null  object\n",
      "dtypes: int64(1), object(7)\n",
      "memory usage: 97.4+ MB\n"
     ]
    }
   ],
   "source": [
    "# Check info of akas dataframe\n",
    "akas.info()"
   ]
  },
  {
   "cell_type": "markdown",
   "id": "eb1c43d5",
   "metadata": {
    "heading_collapsed": true,
    "hidden": true
   },
   "source": [
    "### Cleaning Title Basics Dataframe"
   ]
  },
  {
   "cell_type": "code",
   "execution_count": 12,
   "id": "b073b00e",
   "metadata": {
    "hidden": true
   },
   "outputs": [
    {
     "name": "stdout",
     "output_type": "stream",
     "text": [
      "<class 'pandas.core.frame.DataFrame'>\n",
      "RangeIndex: 9656025 entries, 0 to 9656024\n",
      "Data columns (total 9 columns):\n",
      " #   Column          Dtype \n",
      "---  ------          ----- \n",
      " 0   tconst          object\n",
      " 1   titleType       object\n",
      " 2   primaryTitle    object\n",
      " 3   originalTitle   object\n",
      " 4   isAdult         object\n",
      " 5   startYear       object\n",
      " 6   endYear         object\n",
      " 7   runtimeMinutes  object\n",
      " 8   genres          object\n",
      "dtypes: object(9)\n",
      "memory usage: 663.0+ MB\n"
     ]
    }
   ],
   "source": [
    "# Display info for title basics dataframe\n",
    "basics.info()"
   ]
  },
  {
   "cell_type": "code",
   "execution_count": 13,
   "id": "57ea4721",
   "metadata": {
    "hidden": true
   },
   "outputs": [
    {
     "name": "stdout",
     "output_type": "stream",
     "text": [
      "NaN count in runtimeMinutes column: 6822569\n",
      "NaN count after eliminating null rows: 0\n"
     ]
    }
   ],
   "source": [
    "# Eliminate movies that are null for runtimeMinutes\n",
    "print(f'NaN count in runtimeMinutes column:', basics['runtimeMinutes'].isna().sum())\n",
    "basics.dropna(subset=['runtimeMinutes'], inplace=True)\n",
    "print(f'NaN count after eliminating null rows:',basics['runtimeMinutes'].isna().sum())"
   ]
  },
  {
   "cell_type": "code",
   "execution_count": 14,
   "id": "cd86564d",
   "metadata": {
    "hidden": true
   },
   "outputs": [
    {
     "name": "stdout",
     "output_type": "stream",
     "text": [
      "NaN count in genre column: 75942\n",
      "NaN count after eliminating null rows: 0\n"
     ]
    }
   ],
   "source": [
    "# Eliminate movies that are null for genre\n",
    "print(f'NaN count in genre column:', basics['genres'].isna().sum())\n",
    "basics.dropna(subset=['genres'], inplace=True)\n",
    "print(f'NaN count after eliminating null rows:',basics['genres'].isna().sum())"
   ]
  },
  {
   "cell_type": "code",
   "execution_count": 15,
   "id": "593ff573",
   "metadata": {
    "hidden": true
   },
   "outputs": [
    {
     "data": {
      "text/plain": [
       "tvEpisode       1383048\n",
       "short            593147\n",
       "movie            378114\n",
       "video            179116\n",
       "tvMovie           90980\n",
       "tvSeries          89460\n",
       "tvSpecial         17753\n",
       "tvMiniSeries      16899\n",
       "tvShort            8679\n",
       "videoGame           318\n",
       "Name: titleType, dtype: int64"
      ]
     },
     "execution_count": 15,
     "metadata": {},
     "output_type": "execute_result"
    }
   ],
   "source": [
    "# Check value_counts for the titleType column\n",
    "basics['titleType'].value_counts()"
   ]
  },
  {
   "cell_type": "code",
   "execution_count": 16,
   "id": "798c262d",
   "metadata": {
    "hidden": true
   },
   "outputs": [
    {
     "data": {
      "text/plain": [
       "movie    378114\n",
       "Name: titleType, dtype: int64"
      ]
     },
     "execution_count": 16,
     "metadata": {},
     "output_type": "execute_result"
    }
   ],
   "source": [
    "# Keep only rows in which titleType == movie\n",
    "basics = basics.loc[basics['titleType'] == 'movie']\n",
    "basics['titleType'].value_counts()"
   ]
  },
  {
   "cell_type": "code",
   "execution_count": 17,
   "id": "0a943985",
   "metadata": {
    "hidden": true
   },
   "outputs": [
    {
     "data": {
      "text/plain": [
       "0"
      ]
     },
     "execution_count": 17,
     "metadata": {},
     "output_type": "execute_result"
    }
   ],
   "source": [
    "# Remove movies that are null for the startYear\n",
    "# we will do this because we only want to keep movies with a startYear between\n",
    "# 2000 - 2021, and null values are not between those years\n",
    "basics.dropna(subset = ['startYear'], inplace=True)\n",
    "basics['startYear'].isna().sum()"
   ]
  },
  {
   "cell_type": "code",
   "execution_count": 18,
   "id": "a790857b",
   "metadata": {
    "hidden": true
   },
   "outputs": [
    {
     "data": {
      "text/plain": [
       "tconst            object\n",
       "titleType         object\n",
       "primaryTitle      object\n",
       "originalTitle     object\n",
       "isAdult           object\n",
       "startYear          int32\n",
       "endYear           object\n",
       "runtimeMinutes    object\n",
       "genres            object\n",
       "dtype: object"
      ]
     },
     "execution_count": 18,
     "metadata": {},
     "output_type": "execute_result"
    }
   ],
   "source": [
    "# convert start year column to type integer\n",
    "basics['startYear'] = basics['startYear'].astype(int)\n",
    "basics.dtypes"
   ]
  },
  {
   "cell_type": "code",
   "execution_count": 19,
   "id": "a7f5a7aa",
   "metadata": {
    "hidden": true
   },
   "outputs": [],
   "source": [
    "# Keep rows with startYear between 2000 - 2022\n",
    "basics = basics.loc[(basics['startYear'] >= 2000) & (basics['startYear'] <= 2021)]"
   ]
  },
  {
   "cell_type": "code",
   "execution_count": 20,
   "id": "6038806a",
   "metadata": {
    "hidden": true
   },
   "outputs": [
    {
     "data": {
      "text/plain": [
       "count    209575.000000\n",
       "mean       2012.837514\n",
       "std           5.611038\n",
       "min        2000.000000\n",
       "25%        2009.000000\n",
       "50%        2014.000000\n",
       "75%        2017.000000\n",
       "max        2021.000000\n",
       "Name: startYear, dtype: float64"
      ]
     },
     "execution_count": 20,
     "metadata": {},
     "output_type": "execute_result"
    }
   ],
   "source": [
    "# check that startYear column only kept data between 2000 - 2021\n",
    "basics['startYear'].describe()"
   ]
  },
  {
   "cell_type": "code",
   "execution_count": 21,
   "id": "99e8cf9f",
   "metadata": {
    "hidden": true
   },
   "outputs": [],
   "source": [
    "# Eliminate movies that include 'Documentary' in the genre \n",
    "is_documentary = basics['genres'].str.contains('documentary', case=False)\n",
    "basics = basics[~is_documentary]"
   ]
  },
  {
   "cell_type": "code",
   "execution_count": 22,
   "id": "c3ff5a14",
   "metadata": {
    "hidden": true
   },
   "outputs": [],
   "source": [
    "# Keep only movies made in the US region (as defined by the akas dataframe)\n",
    "keepers = basics['tconst'].isin(akas['titleId'])\n",
    "basics = basics[keepers]"
   ]
  },
  {
   "cell_type": "code",
   "execution_count": 23,
   "id": "61066579",
   "metadata": {
    "hidden": true
   },
   "outputs": [
    {
     "name": "stdout",
     "output_type": "stream",
     "text": [
      "<class 'pandas.core.frame.DataFrame'>\n",
      "Int64Index: 81087 entries, 34803 to 9655791\n",
      "Data columns (total 9 columns):\n",
      " #   Column          Non-Null Count  Dtype \n",
      "---  ------          --------------  ----- \n",
      " 0   tconst          81087 non-null  object\n",
      " 1   titleType       81087 non-null  object\n",
      " 2   primaryTitle    81087 non-null  object\n",
      " 3   originalTitle   81087 non-null  object\n",
      " 4   isAdult         81087 non-null  object\n",
      " 5   startYear       81087 non-null  int32 \n",
      " 6   endYear         0 non-null      object\n",
      " 7   runtimeMinutes  81087 non-null  object\n",
      " 8   genres          81087 non-null  object\n",
      "dtypes: int32(1), object(8)\n",
      "memory usage: 5.9+ MB\n"
     ]
    }
   ],
   "source": [
    "# Check info of basics dataframe\n",
    "basics.info()"
   ]
  },
  {
   "cell_type": "markdown",
   "id": "fd215cc3",
   "metadata": {
    "heading_collapsed": true,
    "hidden": true
   },
   "source": [
    "### Cleaning Title Ratings Dataframe"
   ]
  },
  {
   "cell_type": "code",
   "execution_count": 24,
   "id": "786229bf",
   "metadata": {
    "hidden": true
   },
   "outputs": [
    {
     "name": "stdout",
     "output_type": "stream",
     "text": [
      "<class 'pandas.core.frame.DataFrame'>\n",
      "RangeIndex: 1284591 entries, 0 to 1284590\n",
      "Data columns (total 3 columns):\n",
      " #   Column         Non-Null Count    Dtype  \n",
      "---  ------         --------------    -----  \n",
      " 0   tconst         1284591 non-null  object \n",
      " 1   averageRating  1284591 non-null  float64\n",
      " 2   numVotes       1284591 non-null  int64  \n",
      "dtypes: float64(1), int64(1), object(1)\n",
      "memory usage: 29.4+ MB\n"
     ]
    }
   ],
   "source": [
    "# check info for ratings dataframe\n",
    "ratings.info()"
   ]
  },
  {
   "cell_type": "code",
   "execution_count": 25,
   "id": "4f53404f",
   "metadata": {
    "hidden": true
   },
   "outputs": [],
   "source": [
    "# Keep only movies made in the US region (as defined by the akas dataframe)\n",
    "keepers = ratings['tconst'].isin(akas['titleId'])\n",
    "ratings = ratings[keepers]"
   ]
  },
  {
   "cell_type": "code",
   "execution_count": 26,
   "id": "65380750",
   "metadata": {
    "hidden": true
   },
   "outputs": [
    {
     "name": "stdout",
     "output_type": "stream",
     "text": [
      "<class 'pandas.core.frame.DataFrame'>\n",
      "Int64Index: 490706 entries, 0 to 1284569\n",
      "Data columns (total 3 columns):\n",
      " #   Column         Non-Null Count   Dtype  \n",
      "---  ------         --------------   -----  \n",
      " 0   tconst         490706 non-null  object \n",
      " 1   averageRating  490706 non-null  float64\n",
      " 2   numVotes       490706 non-null  int64  \n",
      "dtypes: float64(1), int64(1), object(1)\n",
      "memory usage: 15.0+ MB\n"
     ]
    }
   ],
   "source": [
    "# check info of ratings dataframe\n",
    "ratings.info()"
   ]
  },
  {
   "cell_type": "markdown",
   "id": "b82386cd",
   "metadata": {
    "heading_collapsed": true,
    "hidden": true
   },
   "source": [
    "### Saving Dataframes in the GitHub Repository"
   ]
  },
  {
   "cell_type": "code",
   "execution_count": 27,
   "id": "9640baf5",
   "metadata": {
    "hidden": true
   },
   "outputs": [
    {
     "data": {
      "text/plain": [
       "['blue_long_2-9665a76b1ae401a510ec1e0ca40ddcb3b0cfe45f1d51b77a308fea0845885648.svg',\n",
       " 'title_akas.csv.gz',\n",
       " 'title_basics.csv.gz',\n",
       " 'title_ratings.csv.gz']"
      ]
     },
     "execution_count": 27,
     "metadata": {},
     "output_type": "execute_result"
    }
   ],
   "source": [
    "# Create 'Data/' file in GitHub Repository\n",
    "os.makedirs('Data/', exist_ok=True)\n",
    "# confirm the folder is created\n",
    "os.listdir(\"Data/\")"
   ]
  },
  {
   "cell_type": "code",
   "execution_count": 28,
   "id": "6d2452a7",
   "metadata": {
    "hidden": true
   },
   "outputs": [],
   "source": [
    "# save dataframes to files\n",
    "basics.to_csv(\"Data/title_basics.csv.gz\", compression='gzip', index=False)\n",
    "ratings.to_csv(\"Data/title_ratings.csv.gz\", compression='gzip', index=False)\n",
    "akas.to_csv(\"Data/title_akas.csv.gz\", compression='gzip', index=False)"
   ]
  },
  {
   "cell_type": "code",
   "execution_count": 29,
   "id": "c33bf5f2",
   "metadata": {
    "hidden": true
   },
   "outputs": [
    {
     "name": "stdout",
     "output_type": "stream",
     "text": [
      "<class 'pandas.core.frame.DataFrame'>\n",
      "RangeIndex: 81087 entries, 0 to 81086\n",
      "Data columns (total 9 columns):\n",
      " #   Column          Non-Null Count  Dtype  \n",
      "---  ------          --------------  -----  \n",
      " 0   tconst          81087 non-null  object \n",
      " 1   titleType       81087 non-null  object \n",
      " 2   primaryTitle    81087 non-null  object \n",
      " 3   originalTitle   81087 non-null  object \n",
      " 4   isAdult         81087 non-null  int64  \n",
      " 5   startYear       81087 non-null  int64  \n",
      " 6   endYear         0 non-null      float64\n",
      " 7   runtimeMinutes  81087 non-null  int64  \n",
      " 8   genres          81087 non-null  object \n",
      "dtypes: float64(1), int64(3), object(5)\n",
      "memory usage: 5.6+ MB\n"
     ]
    }
   ],
   "source": [
    "# check basics dataframe was saved correctly\n",
    "basics = pd.read_csv(\"Data/title_basics.csv.gz\", low_memory=False)\n",
    "basics.info()"
   ]
  },
  {
   "cell_type": "code",
   "execution_count": 30,
   "id": "f264397a",
   "metadata": {
    "hidden": true
   },
   "outputs": [
    {
     "name": "stdout",
     "output_type": "stream",
     "text": [
      "<class 'pandas.core.frame.DataFrame'>\n",
      "RangeIndex: 490706 entries, 0 to 490705\n",
      "Data columns (total 3 columns):\n",
      " #   Column         Non-Null Count   Dtype  \n",
      "---  ------         --------------   -----  \n",
      " 0   tconst         490706 non-null  object \n",
      " 1   averageRating  490706 non-null  float64\n",
      " 2   numVotes       490706 non-null  int64  \n",
      "dtypes: float64(1), int64(1), object(1)\n",
      "memory usage: 11.2+ MB\n"
     ]
    }
   ],
   "source": [
    "# check ratings dataframe was saved correctly\n",
    "ratings = pd.read_csv(\"Data/title_ratings.csv.gz\", low_memory=False)\n",
    "ratings.info()"
   ]
  },
  {
   "cell_type": "code",
   "execution_count": 31,
   "id": "69f45b2e",
   "metadata": {
    "hidden": true
   },
   "outputs": [
    {
     "name": "stdout",
     "output_type": "stream",
     "text": [
      "<class 'pandas.core.frame.DataFrame'>\n",
      "RangeIndex: 1418401 entries, 0 to 1418400\n",
      "Data columns (total 8 columns):\n",
      " #   Column           Non-Null Count    Dtype  \n",
      "---  ------           --------------    -----  \n",
      " 0   titleId          1418401 non-null  object \n",
      " 1   ordering         1418401 non-null  int64  \n",
      " 2   title            1418401 non-null  object \n",
      " 3   region           1418401 non-null  object \n",
      " 4   language         3840 non-null     object \n",
      " 5   types            974792 non-null   object \n",
      " 6   attributes       46099 non-null    object \n",
      " 7   isOriginalTitle  1417056 non-null  float64\n",
      "dtypes: float64(1), int64(1), object(6)\n",
      "memory usage: 86.6+ MB\n"
     ]
    }
   ],
   "source": [
    "# check akas dataframe was saved correctly\n",
    "akas = pd.read_csv(\"Data/title_akas.csv.gz\", low_memory=False)\n",
    "akas.info()"
   ]
  },
  {
   "cell_type": "markdown",
   "id": "1d753bd1",
   "metadata": {
    "heading_collapsed": true
   },
   "source": [
    "## Extract Data from TMDB"
   ]
  },
  {
   "cell_type": "markdown",
   "id": "21b2bc2a",
   "metadata": {
    "heading_collapsed": true,
    "hidden": true
   },
   "source": [
    "### tmdbsimple Package"
   ]
  },
  {
   "cell_type": "code",
   "execution_count": 32,
   "id": "919dbb93",
   "metadata": {
    "hidden": true
   },
   "outputs": [
    {
     "name": "stdout",
     "output_type": "stream",
     "text": [
      "Requirement already satisfied: tmdbsimple in c:\\users\\james\\anaconda3\\envs\\dojo-env\\lib\\site-packages (2.9.1)\n",
      "Requirement already satisfied: requests in c:\\users\\james\\anaconda3\\envs\\dojo-env\\lib\\site-packages (from tmdbsimple) (2.28.1)\n",
      "Requirement already satisfied: certifi>=2017.4.17 in c:\\users\\james\\anaconda3\\envs\\dojo-env\\lib\\site-packages (from requests->tmdbsimple) (2022.9.24)\n",
      "Requirement already satisfied: urllib3<1.27,>=1.21.1 in c:\\users\\james\\anaconda3\\envs\\dojo-env\\lib\\site-packages (from requests->tmdbsimple) (1.26.13)\n",
      "Requirement already satisfied: charset-normalizer<3,>=2 in c:\\users\\james\\anaconda3\\envs\\dojo-env\\lib\\site-packages (from requests->tmdbsimple) (2.0.4)\n",
      "Requirement already satisfied: idna<4,>=2.5 in c:\\users\\james\\anaconda3\\envs\\dojo-env\\lib\\site-packages (from requests->tmdbsimple) (3.4)\n"
     ]
    }
   ],
   "source": [
    "!pip install tmdbsimple;\n",
    "import tmdbsimple as tmdb"
   ]
  },
  {
   "cell_type": "code",
   "execution_count": 33,
   "id": "307a63ed",
   "metadata": {
    "hidden": true
   },
   "outputs": [
    {
     "data": {
      "text/plain": [
       "dict_keys(['api-key'])"
      ]
     },
     "execution_count": 33,
     "metadata": {},
     "output_type": "execute_result"
    }
   ],
   "source": [
    "# load login credentials using json file in notebook\n",
    "with open('E:/Dropbox/Coding Dojo/Projects/Project 3/movie_success_predictions/.secret/tmdb_api.json', 'r') as f:\n",
    "    login = json.load(f)\n",
    "# display keys of loaded dict\n",
    "login.keys()"
   ]
  },
  {
   "cell_type": "code",
   "execution_count": 34,
   "id": "c5c8007d",
   "metadata": {
    "hidden": true
   },
   "outputs": [],
   "source": [
    "# save api-key using tmdbsimple\n",
    "tmdb.API_KEY = login['api-key']"
   ]
  },
  {
   "cell_type": "markdown",
   "id": "2ef3b0ec",
   "metadata": {
    "heading_collapsed": true,
    "hidden": true
   },
   "source": [
    "### Extract data from TMDB API"
   ]
  },
  {
   "cell_type": "code",
   "execution_count": 35,
   "id": "c34ef293",
   "metadata": {
    "hidden": true
   },
   "outputs": [],
   "source": [
    "# define list of years to extract\n",
    "YEARS_TO_GET = [2000, 2001]\n",
    "# define empty errors list\n",
    "errors = []"
   ]
  },
  {
   "cell_type": "code",
   "execution_count": 37,
   "id": "4fac41e8",
   "metadata": {
    "hidden": true
   },
   "outputs": [
    {
     "data": {
      "application/vnd.jupyter.widget-view+json": {
       "model_id": "7b39b7628d1d4b6592662837ccff4993",
       "version_major": 2,
       "version_minor": 0
      },
      "text/plain": [
       "YEARS:   0%|          | 0/2 [00:00<?, ?it/s]"
      ]
     },
     "metadata": {},
     "output_type": "display_data"
    },
    {
     "data": {
      "application/vnd.jupyter.widget-view+json": {
       "model_id": "1e121e5daa1e430f839c398e7db7a827",
       "version_major": 2,
       "version_minor": 0
      },
      "text/plain": [
       "Movies from 2000:   0%|          | 0/1434 [00:00<?, ?it/s]"
      ]
     },
     "metadata": {},
     "output_type": "display_data"
    },
    {
     "data": {
      "application/vnd.jupyter.widget-view+json": {
       "model_id": "a7d0f851b8d54412a708d8dac32904f4",
       "version_major": 2,
       "version_minor": 0
      },
      "text/plain": [
       "Movies from 2001:   0%|          | 0/1549 [00:00<?, ?it/s]"
      ]
     },
     "metadata": {},
     "output_type": "display_data"
    },
    {
     "name": "stdout",
     "output_type": "stream",
     "text": [
      "- Total errors: 456\n"
     ]
    }
   ],
   "source": [
    "# set up progress bar as start of outer loop\n",
    "for YEAR in tqdm_notebook(YEARS_TO_GET, desc = 'YEARS', position=0):\n",
    "    \n",
    "    # select JSON_FILE name and check if file exists\n",
    "    JSON_FILE = f'Data/tmdb_api_results_{YEAR}.json'\n",
    "    # check if JSON_FILE already exists or not\n",
    "    file_exists = os.path.isfile(JSON_FILE)\n",
    "    \n",
    "    # if file does not exist, create it\n",
    "    if file_exists == False:\n",
    "        # save empty dict with just 'imdb_id' to the new json file\n",
    "        with open(JSON_FILE,'w') as f:\n",
    "            json.dump([{'imdb_id':0}],f)\n",
    "            \n",
    "    # save new year as the current df\n",
    "    df = basics.loc[basics['startYear']==YEAR].copy()\n",
    "    # save movie ids to list\n",
    "    movie_ids = df['tconst'].copy()\n",
    "    \n",
    "    # load existing data from json to dataframe\n",
    "    previous_df = pd.read_json(JSON_FILE)\n",
    "    # filter out any ids that are already in the JSON_FILE\n",
    "    movie_ids_to_get = movie_ids[~movie_ids.isin(previous_df['imdb_id'])]\n",
    "    \n",
    "    # get index and movie id from list\n",
    "    # INNER LOOP\n",
    "    for movie_id in tqdm_notebook(movie_ids_to_get,\n",
    "                                 desc=f'Movies from {YEAR}',\n",
    "                                 position=1,\n",
    "                                 leave=True):\n",
    "        try:\n",
    "            # retrieve then data for the movie id\n",
    "            temp = get_movie_with_rating(movie_id)\n",
    "            # append/extend results to existing file using user defined functions\n",
    "            write_json(temp, JSON_FILE)\n",
    "            # short 20ms sleep to prevent overwhelming server\n",
    "            time.sleep(.02)\n",
    "            \n",
    "        except Exception as e:\n",
    "            # append errors to errors list\n",
    "            errors.append([movie_id,e])\n",
    "            \n",
    "    # convert json file to .csv.gz\n",
    "    final_year_df = pd.read_json(JSON_FILE)\n",
    "    final_year_df.to_csv(f'Data/final_tmdb_data_{YEAR}.csv.gz', \n",
    "                         compression='gzip',\n",
    "                        index=False)\n",
    "    \n",
    "print(f'- Total errors: {len(errors)}')"
   ]
  },
  {
   "cell_type": "markdown",
   "id": "b28729c2",
   "metadata": {
    "heading_collapsed": true
   },
   "source": [
    "## Exploratory Data Analysis"
   ]
  },
  {
   "cell_type": "markdown",
   "id": "223fe170",
   "metadata": {
    "heading_collapsed": true,
    "hidden": true
   },
   "source": [
    "### Load Extracted Info as Dataframe"
   ]
  },
  {
   "cell_type": "code",
   "execution_count": 49,
   "id": "f4aec2d5",
   "metadata": {
    "hidden": true
   },
   "outputs": [
    {
     "data": {
      "text/html": [
       "<div>\n",
       "<style scoped>\n",
       "    .dataframe tbody tr th:only-of-type {\n",
       "        vertical-align: middle;\n",
       "    }\n",
       "\n",
       "    .dataframe tbody tr th {\n",
       "        vertical-align: top;\n",
       "    }\n",
       "\n",
       "    .dataframe thead th {\n",
       "        text-align: right;\n",
       "    }\n",
       "</style>\n",
       "<table border=\"1\" class=\"dataframe\">\n",
       "  <thead>\n",
       "    <tr style=\"text-align: right;\">\n",
       "      <th></th>\n",
       "      <th>imdb_id</th>\n",
       "      <th>adult</th>\n",
       "      <th>backdrop_path</th>\n",
       "      <th>belongs_to_collection</th>\n",
       "      <th>budget</th>\n",
       "      <th>genres</th>\n",
       "      <th>homepage</th>\n",
       "      <th>id</th>\n",
       "      <th>original_language</th>\n",
       "      <th>original_title</th>\n",
       "      <th>...</th>\n",
       "      <th>revenue</th>\n",
       "      <th>runtime</th>\n",
       "      <th>spoken_languages</th>\n",
       "      <th>status</th>\n",
       "      <th>tagline</th>\n",
       "      <th>title</th>\n",
       "      <th>video</th>\n",
       "      <th>vote_average</th>\n",
       "      <th>vote_count</th>\n",
       "      <th>certification</th>\n",
       "    </tr>\n",
       "  </thead>\n",
       "  <tbody>\n",
       "    <tr>\n",
       "      <th>0</th>\n",
       "      <td>0</td>\n",
       "      <td>NaN</td>\n",
       "      <td>NaN</td>\n",
       "      <td>NaN</td>\n",
       "      <td>NaN</td>\n",
       "      <td>NaN</td>\n",
       "      <td>NaN</td>\n",
       "      <td>NaN</td>\n",
       "      <td>NaN</td>\n",
       "      <td>NaN</td>\n",
       "      <td>...</td>\n",
       "      <td>NaN</td>\n",
       "      <td>NaN</td>\n",
       "      <td>NaN</td>\n",
       "      <td>NaN</td>\n",
       "      <td>NaN</td>\n",
       "      <td>NaN</td>\n",
       "      <td>NaN</td>\n",
       "      <td>NaN</td>\n",
       "      <td>NaN</td>\n",
       "      <td>NaN</td>\n",
       "    </tr>\n",
       "    <tr>\n",
       "      <th>1</th>\n",
       "      <td>tt0113026</td>\n",
       "      <td>0.0</td>\n",
       "      <td>/vMFs7nw6P0bIV1jDsQpxAieAVnH.jpg</td>\n",
       "      <td>NaN</td>\n",
       "      <td>10000000.0</td>\n",
       "      <td>[{'id': 35, 'name': 'Comedy'}, {'id': 10402, '...</td>\n",
       "      <td>NaN</td>\n",
       "      <td>62127.0</td>\n",
       "      <td>en</td>\n",
       "      <td>The Fantasticks</td>\n",
       "      <td>...</td>\n",
       "      <td>0.0</td>\n",
       "      <td>86.0</td>\n",
       "      <td>[{'english_name': 'English', 'iso_639_1': 'en'...</td>\n",
       "      <td>Released</td>\n",
       "      <td>Try to remember the first time magic happened</td>\n",
       "      <td>The Fantasticks</td>\n",
       "      <td>0.0</td>\n",
       "      <td>5.5</td>\n",
       "      <td>22.0</td>\n",
       "      <td>NaN</td>\n",
       "    </tr>\n",
       "    <tr>\n",
       "      <th>2</th>\n",
       "      <td>tt0113092</td>\n",
       "      <td>0.0</td>\n",
       "      <td>NaN</td>\n",
       "      <td>NaN</td>\n",
       "      <td>0.0</td>\n",
       "      <td>[{'id': 878, 'name': 'Science Fiction'}]</td>\n",
       "      <td>NaN</td>\n",
       "      <td>110977.0</td>\n",
       "      <td>en</td>\n",
       "      <td>For the Cause</td>\n",
       "      <td>...</td>\n",
       "      <td>0.0</td>\n",
       "      <td>100.0</td>\n",
       "      <td>[{'english_name': 'English', 'iso_639_1': 'en'...</td>\n",
       "      <td>Released</td>\n",
       "      <td>The ultimate showdown on a forbidden planet.</td>\n",
       "      <td>For the Cause</td>\n",
       "      <td>0.0</td>\n",
       "      <td>5.1</td>\n",
       "      <td>8.0</td>\n",
       "      <td>NaN</td>\n",
       "    </tr>\n",
       "  </tbody>\n",
       "</table>\n",
       "<p>3 rows × 26 columns</p>\n",
       "</div>"
      ],
      "text/plain": [
       "     imdb_id  adult                     backdrop_path belongs_to_collection  \\\n",
       "0          0    NaN                               NaN                   NaN   \n",
       "1  tt0113026    0.0  /vMFs7nw6P0bIV1jDsQpxAieAVnH.jpg                   NaN   \n",
       "2  tt0113092    0.0                               NaN                   NaN   \n",
       "\n",
       "       budget                                             genres homepage  \\\n",
       "0         NaN                                                NaN      NaN   \n",
       "1  10000000.0  [{'id': 35, 'name': 'Comedy'}, {'id': 10402, '...      NaN   \n",
       "2         0.0           [{'id': 878, 'name': 'Science Fiction'}]      NaN   \n",
       "\n",
       "         id original_language   original_title  ... revenue  runtime  \\\n",
       "0       NaN               NaN              NaN  ...     NaN      NaN   \n",
       "1   62127.0                en  The Fantasticks  ...     0.0     86.0   \n",
       "2  110977.0                en    For the Cause  ...     0.0    100.0   \n",
       "\n",
       "                                    spoken_languages    status  \\\n",
       "0                                                NaN       NaN   \n",
       "1  [{'english_name': 'English', 'iso_639_1': 'en'...  Released   \n",
       "2  [{'english_name': 'English', 'iso_639_1': 'en'...  Released   \n",
       "\n",
       "                                         tagline            title  video  \\\n",
       "0                                            NaN              NaN    NaN   \n",
       "1  Try to remember the first time magic happened  The Fantasticks    0.0   \n",
       "2   The ultimate showdown on a forbidden planet.    For the Cause    0.0   \n",
       "\n",
       "   vote_average vote_count certification  \n",
       "0           NaN        NaN           NaN  \n",
       "1           5.5       22.0           NaN  \n",
       "2           5.1        8.0           NaN  \n",
       "\n",
       "[3 rows x 26 columns]"
      ]
     },
     "execution_count": 49,
     "metadata": {},
     "output_type": "execute_result"
    }
   ],
   "source": [
    "df_2000 = pd.read_csv('Data/final_tmdb_data_2000.csv.gz')\n",
    "df_2000.head(3)"
   ]
  },
  {
   "cell_type": "code",
   "execution_count": 50,
   "id": "79799b8a",
   "metadata": {
    "hidden": true
   },
   "outputs": [
    {
     "data": {
      "text/html": [
       "<div>\n",
       "<style scoped>\n",
       "    .dataframe tbody tr th:only-of-type {\n",
       "        vertical-align: middle;\n",
       "    }\n",
       "\n",
       "    .dataframe tbody tr th {\n",
       "        vertical-align: top;\n",
       "    }\n",
       "\n",
       "    .dataframe thead th {\n",
       "        text-align: right;\n",
       "    }\n",
       "</style>\n",
       "<table border=\"1\" class=\"dataframe\">\n",
       "  <thead>\n",
       "    <tr style=\"text-align: right;\">\n",
       "      <th></th>\n",
       "      <th>imdb_id</th>\n",
       "      <th>adult</th>\n",
       "      <th>backdrop_path</th>\n",
       "      <th>belongs_to_collection</th>\n",
       "      <th>budget</th>\n",
       "      <th>genres</th>\n",
       "      <th>homepage</th>\n",
       "      <th>id</th>\n",
       "      <th>original_language</th>\n",
       "      <th>original_title</th>\n",
       "      <th>...</th>\n",
       "      <th>revenue</th>\n",
       "      <th>runtime</th>\n",
       "      <th>spoken_languages</th>\n",
       "      <th>status</th>\n",
       "      <th>tagline</th>\n",
       "      <th>title</th>\n",
       "      <th>video</th>\n",
       "      <th>vote_average</th>\n",
       "      <th>vote_count</th>\n",
       "      <th>certification</th>\n",
       "    </tr>\n",
       "  </thead>\n",
       "  <tbody>\n",
       "    <tr>\n",
       "      <th>0</th>\n",
       "      <td>0</td>\n",
       "      <td>NaN</td>\n",
       "      <td>NaN</td>\n",
       "      <td>NaN</td>\n",
       "      <td>NaN</td>\n",
       "      <td>NaN</td>\n",
       "      <td>NaN</td>\n",
       "      <td>NaN</td>\n",
       "      <td>NaN</td>\n",
       "      <td>NaN</td>\n",
       "      <td>...</td>\n",
       "      <td>NaN</td>\n",
       "      <td>NaN</td>\n",
       "      <td>NaN</td>\n",
       "      <td>NaN</td>\n",
       "      <td>NaN</td>\n",
       "      <td>NaN</td>\n",
       "      <td>NaN</td>\n",
       "      <td>NaN</td>\n",
       "      <td>NaN</td>\n",
       "      <td>NaN</td>\n",
       "    </tr>\n",
       "    <tr>\n",
       "      <th>1</th>\n",
       "      <td>tt0035423</td>\n",
       "      <td>0.0</td>\n",
       "      <td>/hfeiSfWYujh6MKhtGTXyK3DD4nN.jpg</td>\n",
       "      <td>NaN</td>\n",
       "      <td>48000000.0</td>\n",
       "      <td>[{'id': 10749, 'name': 'Romance'}, {'id': 14, ...</td>\n",
       "      <td>NaN</td>\n",
       "      <td>11232.0</td>\n",
       "      <td>en</td>\n",
       "      <td>Kate &amp; Leopold</td>\n",
       "      <td>...</td>\n",
       "      <td>76019048.0</td>\n",
       "      <td>118.0</td>\n",
       "      <td>[{'english_name': 'French', 'iso_639_1': 'fr',...</td>\n",
       "      <td>Released</td>\n",
       "      <td>If they lived in the same century, they'd be p...</td>\n",
       "      <td>Kate &amp; Leopold</td>\n",
       "      <td>0.0</td>\n",
       "      <td>6.325</td>\n",
       "      <td>1177.0</td>\n",
       "      <td>PG-13</td>\n",
       "    </tr>\n",
       "    <tr>\n",
       "      <th>2</th>\n",
       "      <td>tt0114447</td>\n",
       "      <td>0.0</td>\n",
       "      <td>NaN</td>\n",
       "      <td>NaN</td>\n",
       "      <td>0.0</td>\n",
       "      <td>[{'id': 53, 'name': 'Thriller'}, {'id': 28, 'n...</td>\n",
       "      <td>NaN</td>\n",
       "      <td>151007.0</td>\n",
       "      <td>en</td>\n",
       "      <td>The Silent Force</td>\n",
       "      <td>...</td>\n",
       "      <td>0.0</td>\n",
       "      <td>90.0</td>\n",
       "      <td>[{'english_name': 'English', 'iso_639_1': 'en'...</td>\n",
       "      <td>Released</td>\n",
       "      <td>They left him for dead... They should have fin...</td>\n",
       "      <td>The Silent Force</td>\n",
       "      <td>0.0</td>\n",
       "      <td>5.000</td>\n",
       "      <td>3.0</td>\n",
       "      <td>NaN</td>\n",
       "    </tr>\n",
       "  </tbody>\n",
       "</table>\n",
       "<p>3 rows × 26 columns</p>\n",
       "</div>"
      ],
      "text/plain": [
       "     imdb_id  adult                     backdrop_path belongs_to_collection  \\\n",
       "0          0    NaN                               NaN                   NaN   \n",
       "1  tt0035423    0.0  /hfeiSfWYujh6MKhtGTXyK3DD4nN.jpg                   NaN   \n",
       "2  tt0114447    0.0                               NaN                   NaN   \n",
       "\n",
       "       budget                                             genres homepage  \\\n",
       "0         NaN                                                NaN      NaN   \n",
       "1  48000000.0  [{'id': 10749, 'name': 'Romance'}, {'id': 14, ...      NaN   \n",
       "2         0.0  [{'id': 53, 'name': 'Thriller'}, {'id': 28, 'n...      NaN   \n",
       "\n",
       "         id original_language    original_title  ...     revenue  runtime  \\\n",
       "0       NaN               NaN               NaN  ...         NaN      NaN   \n",
       "1   11232.0                en    Kate & Leopold  ...  76019048.0    118.0   \n",
       "2  151007.0                en  The Silent Force  ...         0.0     90.0   \n",
       "\n",
       "                                    spoken_languages    status  \\\n",
       "0                                                NaN       NaN   \n",
       "1  [{'english_name': 'French', 'iso_639_1': 'fr',...  Released   \n",
       "2  [{'english_name': 'English', 'iso_639_1': 'en'...  Released   \n",
       "\n",
       "                                             tagline             title  video  \\\n",
       "0                                                NaN               NaN    NaN   \n",
       "1  If they lived in the same century, they'd be p...    Kate & Leopold    0.0   \n",
       "2  They left him for dead... They should have fin...  The Silent Force    0.0   \n",
       "\n",
       "   vote_average vote_count certification  \n",
       "0           NaN        NaN           NaN  \n",
       "1         6.325     1177.0         PG-13  \n",
       "2         5.000        3.0           NaN  \n",
       "\n",
       "[3 rows x 26 columns]"
      ]
     },
     "execution_count": 50,
     "metadata": {},
     "output_type": "execute_result"
    }
   ],
   "source": [
    "df_2001 = pd.read_csv('Data/final_tmdb_data_2001.csv.gz')\n",
    "df_2001.head(3)"
   ]
  },
  {
   "cell_type": "code",
   "execution_count": 54,
   "id": "6bd81185",
   "metadata": {
    "hidden": true
   },
   "outputs": [
    {
     "name": "stdout",
     "output_type": "stream",
     "text": [
      "<class 'pandas.core.frame.DataFrame'>\n",
      "RangeIndex: 2529 entries, 0 to 2528\n",
      "Data columns (total 26 columns):\n",
      " #   Column                 Non-Null Count  Dtype  \n",
      "---  ------                 --------------  -----  \n",
      " 0   imdb_id                2529 non-null   object \n",
      " 1   adult                  2527 non-null   float64\n",
      " 2   backdrop_path          1352 non-null   object \n",
      " 3   belongs_to_collection  203 non-null    object \n",
      " 4   budget                 2527 non-null   float64\n",
      " 5   genres                 2527 non-null   object \n",
      " 6   homepage               169 non-null    object \n",
      " 7   id                     2527 non-null   float64\n",
      " 8   original_language      2527 non-null   object \n",
      " 9   original_title         2527 non-null   object \n",
      " 10  overview               2476 non-null   object \n",
      " 11  popularity             2527 non-null   float64\n",
      " 12  poster_path            2268 non-null   object \n",
      " 13  production_companies   2527 non-null   object \n",
      " 14  production_countries   2527 non-null   object \n",
      " 15  release_date           2512 non-null   object \n",
      " 16  revenue                2527 non-null   float64\n",
      " 17  runtime                2527 non-null   float64\n",
      " 18  spoken_languages       2527 non-null   object \n",
      " 19  status                 2527 non-null   object \n",
      " 20  tagline                1082 non-null   object \n",
      " 21  title                  2527 non-null   object \n",
      " 22  video                  2527 non-null   float64\n",
      " 23  vote_average           2527 non-null   float64\n",
      " 24  vote_count             2527 non-null   float64\n",
      " 25  certification          807 non-null    object \n",
      "dtypes: float64(9), object(17)\n",
      "memory usage: 513.8+ KB\n"
     ]
    },
    {
     "data": {
      "text/html": [
       "<div>\n",
       "<style scoped>\n",
       "    .dataframe tbody tr th:only-of-type {\n",
       "        vertical-align: middle;\n",
       "    }\n",
       "\n",
       "    .dataframe tbody tr th {\n",
       "        vertical-align: top;\n",
       "    }\n",
       "\n",
       "    .dataframe thead th {\n",
       "        text-align: right;\n",
       "    }\n",
       "</style>\n",
       "<table border=\"1\" class=\"dataframe\">\n",
       "  <thead>\n",
       "    <tr style=\"text-align: right;\">\n",
       "      <th></th>\n",
       "      <th>imdb_id</th>\n",
       "      <th>adult</th>\n",
       "      <th>backdrop_path</th>\n",
       "      <th>belongs_to_collection</th>\n",
       "      <th>budget</th>\n",
       "      <th>genres</th>\n",
       "      <th>homepage</th>\n",
       "      <th>id</th>\n",
       "      <th>original_language</th>\n",
       "      <th>original_title</th>\n",
       "      <th>...</th>\n",
       "      <th>revenue</th>\n",
       "      <th>runtime</th>\n",
       "      <th>spoken_languages</th>\n",
       "      <th>status</th>\n",
       "      <th>tagline</th>\n",
       "      <th>title</th>\n",
       "      <th>video</th>\n",
       "      <th>vote_average</th>\n",
       "      <th>vote_count</th>\n",
       "      <th>certification</th>\n",
       "    </tr>\n",
       "  </thead>\n",
       "  <tbody>\n",
       "    <tr>\n",
       "      <th>0</th>\n",
       "      <td>0</td>\n",
       "      <td>NaN</td>\n",
       "      <td>NaN</td>\n",
       "      <td>NaN</td>\n",
       "      <td>NaN</td>\n",
       "      <td>NaN</td>\n",
       "      <td>NaN</td>\n",
       "      <td>NaN</td>\n",
       "      <td>NaN</td>\n",
       "      <td>NaN</td>\n",
       "      <td>...</td>\n",
       "      <td>NaN</td>\n",
       "      <td>NaN</td>\n",
       "      <td>NaN</td>\n",
       "      <td>NaN</td>\n",
       "      <td>NaN</td>\n",
       "      <td>NaN</td>\n",
       "      <td>NaN</td>\n",
       "      <td>NaN</td>\n",
       "      <td>NaN</td>\n",
       "      <td>NaN</td>\n",
       "    </tr>\n",
       "    <tr>\n",
       "      <th>1</th>\n",
       "      <td>tt0113026</td>\n",
       "      <td>0.0</td>\n",
       "      <td>/vMFs7nw6P0bIV1jDsQpxAieAVnH.jpg</td>\n",
       "      <td>NaN</td>\n",
       "      <td>10000000.0</td>\n",
       "      <td>[{'id': 35, 'name': 'Comedy'}, {'id': 10402, '...</td>\n",
       "      <td>NaN</td>\n",
       "      <td>62127.0</td>\n",
       "      <td>en</td>\n",
       "      <td>The Fantasticks</td>\n",
       "      <td>...</td>\n",
       "      <td>0.0</td>\n",
       "      <td>86.0</td>\n",
       "      <td>[{'english_name': 'English', 'iso_639_1': 'en'...</td>\n",
       "      <td>Released</td>\n",
       "      <td>Try to remember the first time magic happened</td>\n",
       "      <td>The Fantasticks</td>\n",
       "      <td>0.0</td>\n",
       "      <td>5.500</td>\n",
       "      <td>22.0</td>\n",
       "      <td>NaN</td>\n",
       "    </tr>\n",
       "    <tr>\n",
       "      <th>2</th>\n",
       "      <td>tt0113092</td>\n",
       "      <td>0.0</td>\n",
       "      <td>NaN</td>\n",
       "      <td>NaN</td>\n",
       "      <td>0.0</td>\n",
       "      <td>[{'id': 878, 'name': 'Science Fiction'}]</td>\n",
       "      <td>NaN</td>\n",
       "      <td>110977.0</td>\n",
       "      <td>en</td>\n",
       "      <td>For the Cause</td>\n",
       "      <td>...</td>\n",
       "      <td>0.0</td>\n",
       "      <td>100.0</td>\n",
       "      <td>[{'english_name': 'English', 'iso_639_1': 'en'...</td>\n",
       "      <td>Released</td>\n",
       "      <td>The ultimate showdown on a forbidden planet.</td>\n",
       "      <td>For the Cause</td>\n",
       "      <td>0.0</td>\n",
       "      <td>5.100</td>\n",
       "      <td>8.0</td>\n",
       "      <td>NaN</td>\n",
       "    </tr>\n",
       "    <tr>\n",
       "      <th>3</th>\n",
       "      <td>tt0116391</td>\n",
       "      <td>0.0</td>\n",
       "      <td>NaN</td>\n",
       "      <td>NaN</td>\n",
       "      <td>0.0</td>\n",
       "      <td>[{'id': 18, 'name': 'Drama'}, {'id': 28, 'name...</td>\n",
       "      <td>NaN</td>\n",
       "      <td>442869.0</td>\n",
       "      <td>hi</td>\n",
       "      <td>Gang</td>\n",
       "      <td>...</td>\n",
       "      <td>0.0</td>\n",
       "      <td>152.0</td>\n",
       "      <td>[{'english_name': 'Hindi', 'iso_639_1': 'hi', ...</td>\n",
       "      <td>Released</td>\n",
       "      <td>NaN</td>\n",
       "      <td>Gang</td>\n",
       "      <td>0.0</td>\n",
       "      <td>4.000</td>\n",
       "      <td>1.0</td>\n",
       "      <td>NaN</td>\n",
       "    </tr>\n",
       "    <tr>\n",
       "      <th>4</th>\n",
       "      <td>tt0118694</td>\n",
       "      <td>0.0</td>\n",
       "      <td>/n4GJFGzsc7NinI1VeGDXIcQjtU2.jpg</td>\n",
       "      <td>NaN</td>\n",
       "      <td>150000.0</td>\n",
       "      <td>[{'id': 18, 'name': 'Drama'}, {'id': 10749, 'n...</td>\n",
       "      <td>NaN</td>\n",
       "      <td>843.0</td>\n",
       "      <td>cn</td>\n",
       "      <td>花樣年華</td>\n",
       "      <td>...</td>\n",
       "      <td>12854953.0</td>\n",
       "      <td>99.0</td>\n",
       "      <td>[{'english_name': 'Cantonese', 'iso_639_1': 'c...</td>\n",
       "      <td>Released</td>\n",
       "      <td>Feel the heat, keep the feeling burning, let t...</td>\n",
       "      <td>In the Mood for Love</td>\n",
       "      <td>0.0</td>\n",
       "      <td>8.112</td>\n",
       "      <td>2135.0</td>\n",
       "      <td>PG</td>\n",
       "    </tr>\n",
       "  </tbody>\n",
       "</table>\n",
       "<p>5 rows × 26 columns</p>\n",
       "</div>"
      ],
      "text/plain": [
       "     imdb_id  adult                     backdrop_path belongs_to_collection  \\\n",
       "0          0    NaN                               NaN                   NaN   \n",
       "1  tt0113026    0.0  /vMFs7nw6P0bIV1jDsQpxAieAVnH.jpg                   NaN   \n",
       "2  tt0113092    0.0                               NaN                   NaN   \n",
       "3  tt0116391    0.0                               NaN                   NaN   \n",
       "4  tt0118694    0.0  /n4GJFGzsc7NinI1VeGDXIcQjtU2.jpg                   NaN   \n",
       "\n",
       "       budget                                             genres homepage  \\\n",
       "0         NaN                                                NaN      NaN   \n",
       "1  10000000.0  [{'id': 35, 'name': 'Comedy'}, {'id': 10402, '...      NaN   \n",
       "2         0.0           [{'id': 878, 'name': 'Science Fiction'}]      NaN   \n",
       "3         0.0  [{'id': 18, 'name': 'Drama'}, {'id': 28, 'name...      NaN   \n",
       "4    150000.0  [{'id': 18, 'name': 'Drama'}, {'id': 10749, 'n...      NaN   \n",
       "\n",
       "         id original_language   original_title  ...     revenue  runtime  \\\n",
       "0       NaN               NaN              NaN  ...         NaN      NaN   \n",
       "1   62127.0                en  The Fantasticks  ...         0.0     86.0   \n",
       "2  110977.0                en    For the Cause  ...         0.0    100.0   \n",
       "3  442869.0                hi             Gang  ...         0.0    152.0   \n",
       "4     843.0                cn             花樣年華  ...  12854953.0     99.0   \n",
       "\n",
       "                                    spoken_languages    status  \\\n",
       "0                                                NaN       NaN   \n",
       "1  [{'english_name': 'English', 'iso_639_1': 'en'...  Released   \n",
       "2  [{'english_name': 'English', 'iso_639_1': 'en'...  Released   \n",
       "3  [{'english_name': 'Hindi', 'iso_639_1': 'hi', ...  Released   \n",
       "4  [{'english_name': 'Cantonese', 'iso_639_1': 'c...  Released   \n",
       "\n",
       "                                             tagline                 title  \\\n",
       "0                                                NaN                   NaN   \n",
       "1      Try to remember the first time magic happened       The Fantasticks   \n",
       "2       The ultimate showdown on a forbidden planet.         For the Cause   \n",
       "3                                                NaN                  Gang   \n",
       "4  Feel the heat, keep the feeling burning, let t...  In the Mood for Love   \n",
       "\n",
       "   video  vote_average vote_count certification  \n",
       "0    NaN           NaN        NaN           NaN  \n",
       "1    0.0         5.500       22.0           NaN  \n",
       "2    0.0         5.100        8.0           NaN  \n",
       "3    0.0         4.000        1.0           NaN  \n",
       "4    0.0         8.112     2135.0            PG  \n",
       "\n",
       "[5 rows x 26 columns]"
      ]
     },
     "execution_count": 54,
     "metadata": {},
     "output_type": "execute_result"
    }
   ],
   "source": [
    "# concatinate dataframes into a single dataframe\n",
    "api_df = pd.concat([df_2000, df_2001], ignore_index=True)\n",
    "api_df.info()\n",
    "api_df.head()"
   ]
  },
  {
   "cell_type": "code",
   "execution_count": 72,
   "id": "0c413478",
   "metadata": {
    "hidden": true
   },
   "outputs": [],
   "source": [
    "# save combined dataframe as single .csv.gz file\n",
    "api_df.to_csv('Data/tmdb_results_combined.csv.gz', compression='gzip', index=False)"
   ]
  },
  {
   "cell_type": "markdown",
   "id": "9a957e03",
   "metadata": {
    "heading_collapsed": true,
    "hidden": true
   },
   "source": [
    "### Exploratory Data Analysis"
   ]
  },
  {
   "cell_type": "markdown",
   "id": "70cc614c",
   "metadata": {
    "heading_collapsed": true,
    "hidden": true
   },
   "source": [
    "#### How many movies had at least some valid financial information (values > 0 for budget OR revenue)?"
   ]
  },
  {
   "cell_type": "code",
   "execution_count": 55,
   "id": "12a9abac",
   "metadata": {
    "hidden": true
   },
   "outputs": [],
   "source": [
    "# create filter to determine rows with valid financial info\n",
    "valid_budget = api_df['budget'] > 0 \n",
    "valid_revenue = api_df['revenue'] > 0"
   ]
  },
  {
   "cell_type": "code",
   "execution_count": 59,
   "id": "e9a0e748",
   "metadata": {
    "hidden": true
   },
   "outputs": [
    {
     "name": "stdout",
     "output_type": "stream",
     "text": [
      "Then number of movies with some valid financial info is 632.\n"
     ]
    }
   ],
   "source": [
    "# create new dataframe with only valid financial info\n",
    "valid_finance_df = api_df[valid_budget | valid_revenue]\n",
    "print(f'Then number of movies with some valid financial info is {len(valid_finance_df)}.')"
   ]
  },
  {
   "cell_type": "markdown",
   "id": "2be93da6",
   "metadata": {
    "heading_collapsed": true,
    "hidden": true
   },
   "source": [
    "#### How many movies are there in each of the certification categories (G/PG/PG-13/R)?"
   ]
  },
  {
   "cell_type": "code",
   "execution_count": 60,
   "id": "a0808f01",
   "metadata": {
    "hidden": true
   },
   "outputs": [
    {
     "data": {
      "text/plain": [
       "R          457\n",
       "PG-13      183\n",
       "NR          72\n",
       "PG          63\n",
       "G           24\n",
       "NC-17        6\n",
       "Unrated      1\n",
       "-            1\n",
       "Name: certification, dtype: int64"
      ]
     },
     "execution_count": 60,
     "metadata": {},
     "output_type": "execute_result"
    }
   ],
   "source": [
    "# determine number of movies in each certification category\n",
    "api_df['certification'].value_countsnts()"
   ]
  },
  {
   "cell_type": "markdown",
   "id": "e724da7f",
   "metadata": {
    "heading_collapsed": true,
    "hidden": true
   },
   "source": [
    "#### What is the average revenue per certification category?"
   ]
  },
  {
   "cell_type": "code",
   "execution_count": 71,
   "id": "af18fd7b",
   "metadata": {
    "hidden": true
   },
   "outputs": [
    {
     "data": {
      "text/plain": [
       "certification\n",
       "-                  0.00\n",
       "G         72,185,327.04\n",
       "NC-17              0.00\n",
       "NR         2,263,992.56\n",
       "PG        62,590,769.00\n",
       "PG-13     71,057,113.56\n",
       "R         16,641,994.89\n",
       "Unrated            0.00\n",
       "Name: revenue, dtype: float64"
      ]
     },
     "execution_count": 71,
     "metadata": {},
     "output_type": "execute_result"
    }
   ],
   "source": [
    "# determine mean revenue per certificaiton category\n",
    "avg_revenue = api_df.groupby('certification')['revenue'].mean()\n",
    "# set option to supress scientific notation\n",
    "pd.set_option('display.float_format', lambda x: f'{x:,.2f}')\n",
    "avg_revenue"
   ]
  },
  {
   "cell_type": "markdown",
   "id": "0da89f45",
   "metadata": {
    "heading_collapsed": true,
    "hidden": true
   },
   "source": [
    "#### What is the average budget per certification category?"
   ]
  },
  {
   "cell_type": "code",
   "execution_count": 68,
   "id": "a1fe5d75",
   "metadata": {
    "hidden": true
   },
   "outputs": [
    {
     "data": {
      "text/plain": [
       "certification\n",
       "-                  0.00\n",
       "G         23,833,333.33\n",
       "NC-17              0.00\n",
       "NR         1,488,056.86\n",
       "PG        25,039,638.71\n",
       "PG-13     30,787,748.23\n",
       "R          9,894,976.91\n",
       "Unrated            0.00\n",
       "Name: budget, dtype: float64"
      ]
     },
     "execution_count": 68,
     "metadata": {},
     "output_type": "execute_result"
    }
   ],
   "source": [
    "# determine mean budget per certificaiton category\n",
    "avg_budget = api_df.groupby('certification')['budget'].mean()\n",
    "# set option to supress scientific notation\n",
    "pd.set_option('display.float_format', lambda x: f'{x:,.2f}')\n",
    "avg_budget"
   ]
  }
 ],
 "metadata": {
  "kernelspec": {
   "display_name": "Python (dojo-env)",
   "language": "python",
   "name": "dojo-env"
  },
  "language_info": {
   "codemirror_mode": {
    "name": "ipython",
    "version": 3
   },
   "file_extension": ".py",
   "mimetype": "text/x-python",
   "name": "python",
   "nbconvert_exporter": "python",
   "pygments_lexer": "ipython3",
   "version": "3.9.15"
  },
  "toc": {
   "base_numbering": 1,
   "nav_menu": {},
   "number_sections": true,
   "sideBar": true,
   "skip_h1_title": false,
   "title_cell": "Table of Contents",
   "title_sidebar": "Contents",
   "toc_cell": false,
   "toc_position": {},
   "toc_section_display": true,
   "toc_window_display": false
  }
 },
 "nbformat": 4,
 "nbformat_minor": 5
}
