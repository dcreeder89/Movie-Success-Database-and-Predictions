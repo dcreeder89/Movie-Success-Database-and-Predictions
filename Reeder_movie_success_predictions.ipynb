{
 "cells": [
  {
   "cell_type": "markdown",
   "id": "3ea5fdbe",
   "metadata": {},
   "source": [
    "# Movie Success Predictions"
   ]
  },
  {
   "cell_type": "code",
   "execution_count": 3,
   "id": "e5dbcc9e",
   "metadata": {},
   "outputs": [],
   "source": [
    "# Import Libraries \n",
    "import pandas as pd\n",
    "import numpy as np\n",
    "import os, json"
   ]
  },
  {
   "cell_type": "markdown",
   "id": "a6511003",
   "metadata": {
    "heading_collapsed": true
   },
   "source": [
    "## Preprocessing Data "
   ]
  },
  {
   "cell_type": "code",
   "execution_count": 2,
   "id": "08530aa8",
   "metadata": {
    "hidden": true
   },
   "outputs": [],
   "source": [
    "# Save all url's for the datasets\n",
    "basics_url = 'https://datasets.imdbws.com/title.basics.tsv.gz'\n",
    "ratings_url = 'https://datasets.imdbws.com/title.ratings.tsv.gz'\n",
    "akas_url = 'https://datasets.imdbws.com/title.akas.tsv.gz'"
   ]
  },
  {
   "cell_type": "code",
   "execution_count": 3,
   "id": "a49e30d0",
   "metadata": {
    "hidden": true
   },
   "outputs": [],
   "source": [
    "# Convert data sets into dataframes\n",
    "basics = pd.read_csv(basics_url, sep='\\t', low_memory=False)\n",
    "ratings = pd.read_csv(ratings_url, sep='\\t', low_memory=False)\n",
    "akas = pd.read_csv(akas_url, sep='\\t', low_memory=False)"
   ]
  },
  {
   "cell_type": "code",
   "execution_count": 4,
   "id": "afc6869d",
   "metadata": {
    "hidden": true
   },
   "outputs": [],
   "source": [
    "# Replace \\N with NaN in all the dataframes\n",
    "basics.replace({'\\\\N':np.nan}, inplace=True)\n",
    "ratings.replace({'\\\\N':np.nan}, inplace=True)\n",
    "akas.replace({'\\\\N':np.nan}, inplace=True)"
   ]
  },
  {
   "cell_type": "code",
   "execution_count": 5,
   "id": "94271183",
   "metadata": {
    "hidden": true
   },
   "outputs": [
    {
     "name": "stdout",
     "output_type": "stream",
     "text": [
      "Duplicate rows in basics dataframe: 0\n",
      "Duplicate rows in ratings dataframe: 0\n",
      "Duplicate rows in akas dataframe: 0\n"
     ]
    }
   ],
   "source": [
    "# check for duplicate rows in dataframes\n",
    "print(f'Duplicate rows in basics dataframe:', basics.duplicated().sum())\n",
    "print(f'Duplicate rows in ratings dataframe:', ratings.duplicated().sum())\n",
    "print(f'Duplicate rows in akas dataframe:', akas.duplicated().sum())"
   ]
  },
  {
   "cell_type": "markdown",
   "id": "cac063e2",
   "metadata": {
    "heading_collapsed": true,
    "hidden": true
   },
   "source": [
    "### Cleaning AKAs Dataframe"
   ]
  },
  {
   "cell_type": "code",
   "execution_count": 6,
   "id": "b0746d2f",
   "metadata": {
    "hidden": true
   },
   "outputs": [
    {
     "name": "stdout",
     "output_type": "stream",
     "text": [
      "<class 'pandas.core.frame.DataFrame'>\n",
      "RangeIndex: 34984864 entries, 0 to 34984863\n",
      "Data columns (total 8 columns):\n",
      " #   Column           Dtype \n",
      "---  ------           ----- \n",
      " 0   titleId          object\n",
      " 1   ordering         int64 \n",
      " 2   title            object\n",
      " 3   region           object\n",
      " 4   language         object\n",
      " 5   types            object\n",
      " 6   attributes       object\n",
      " 7   isOriginalTitle  object\n",
      "dtypes: int64(1), object(7)\n",
      "memory usage: 2.1+ GB\n"
     ]
    }
   ],
   "source": [
    "# Display info for AKAs dataframe\n",
    "akas.info()"
   ]
  },
  {
   "cell_type": "code",
   "execution_count": 7,
   "id": "587ab755",
   "metadata": {
    "hidden": true
   },
   "outputs": [
    {
     "data": {
      "text/plain": [
       "DE    4181766\n",
       "FR    4178938\n",
       "JP    4178526\n",
       "IN    4117705\n",
       "ES    4100704\n",
       "       ...   \n",
       "GS          1\n",
       "TV          1\n",
       "PW          1\n",
       "NR          1\n",
       "NU          1\n",
       "Name: region, Length: 248, dtype: int64"
      ]
     },
     "execution_count": 7,
     "metadata": {},
     "output_type": "execute_result"
    }
   ],
   "source": [
    "# Check value_counts for region column\n",
    "akas['region'].value_counts()"
   ]
  },
  {
   "cell_type": "code",
   "execution_count": 8,
   "id": "4ae1530f",
   "metadata": {
    "hidden": true
   },
   "outputs": [
    {
     "data": {
      "text/plain": [
       "US    1415820\n",
       "Name: region, dtype: int64"
      ]
     },
     "execution_count": 8,
     "metadata": {},
     "output_type": "execute_result"
    }
   ],
   "source": [
    "# Keep only movies in US region\n",
    "akas = akas.loc[akas['region'] == 'US']\n",
    "akas['region'].value_counts()"
   ]
  },
  {
   "cell_type": "code",
   "execution_count": 24,
   "id": "8fc75f46",
   "metadata": {
    "hidden": true
   },
   "outputs": [
    {
     "name": "stdout",
     "output_type": "stream",
     "text": [
      "<class 'pandas.core.frame.DataFrame'>\n",
      "Int64Index: 1415820 entries, 5 to 34984608\n",
      "Data columns (total 8 columns):\n",
      " #   Column           Non-Null Count    Dtype \n",
      "---  ------           --------------    ----- \n",
      " 0   titleId          1415820 non-null  object\n",
      " 1   ordering         1415820 non-null  int64 \n",
      " 2   title            1415820 non-null  object\n",
      " 3   region           1415820 non-null  object\n",
      " 4   language         3829 non-null     object\n",
      " 5   types            973958 non-null   object\n",
      " 6   attributes       46001 non-null    object\n",
      " 7   isOriginalTitle  1414475 non-null  object\n",
      "dtypes: int64(1), object(7)\n",
      "memory usage: 97.2+ MB\n"
     ]
    }
   ],
   "source": [
    "# Check info of akas dataframe\n",
    "akas.info()"
   ]
  },
  {
   "cell_type": "markdown",
   "id": "eb1c43d5",
   "metadata": {
    "heading_collapsed": true,
    "hidden": true
   },
   "source": [
    "### Cleaning Title Basics Dataframe"
   ]
  },
  {
   "cell_type": "code",
   "execution_count": 9,
   "id": "b073b00e",
   "metadata": {
    "hidden": true
   },
   "outputs": [
    {
     "name": "stdout",
     "output_type": "stream",
     "text": [
      "<class 'pandas.core.frame.DataFrame'>\n",
      "RangeIndex: 9631839 entries, 0 to 9631838\n",
      "Data columns (total 9 columns):\n",
      " #   Column          Dtype \n",
      "---  ------          ----- \n",
      " 0   tconst          object\n",
      " 1   titleType       object\n",
      " 2   primaryTitle    object\n",
      " 3   originalTitle   object\n",
      " 4   isAdult         object\n",
      " 5   startYear       object\n",
      " 6   endYear         object\n",
      " 7   runtimeMinutes  object\n",
      " 8   genres          object\n",
      "dtypes: object(9)\n",
      "memory usage: 661.4+ MB\n"
     ]
    }
   ],
   "source": [
    "# Display info for title basics dataframe\n",
    "basics.info()"
   ]
  },
  {
   "cell_type": "code",
   "execution_count": 10,
   "id": "57ea4721",
   "metadata": {
    "hidden": true
   },
   "outputs": [
    {
     "name": "stdout",
     "output_type": "stream",
     "text": [
      "NaN count in runtimeMinutes column: 6809952\n",
      "NaN count after eliminating null rows: 0\n"
     ]
    }
   ],
   "source": [
    "# Eliminate movies that are null for runtimeMinutes\n",
    "print(f'NaN count in runtimeMinutes column:', basics['runtimeMinutes'].isna().sum())\n",
    "basics.dropna(subset=['runtimeMinutes'], inplace=True)\n",
    "print(f'NaN count after eliminating null rows:',basics['runtimeMinutes'].isna().sum())"
   ]
  },
  {
   "cell_type": "code",
   "execution_count": 11,
   "id": "cd86564d",
   "metadata": {
    "hidden": true
   },
   "outputs": [
    {
     "name": "stdout",
     "output_type": "stream",
     "text": [
      "NaN count in genre column: 75581\n",
      "NaN count after eliminating null rows: 0\n"
     ]
    }
   ],
   "source": [
    "# Eliminate movies that are null for genre\n",
    "print(f'NaN count in genre column:', basics['genres'].isna().sum())\n",
    "basics.dropna(subset=['genres'], inplace=True)\n",
    "print(f'NaN count after eliminating null rows:',basics['genres'].isna().sum())"
   ]
  },
  {
   "cell_type": "code",
   "execution_count": 12,
   "id": "593ff573",
   "metadata": {
    "hidden": true
   },
   "outputs": [
    {
     "data": {
      "text/plain": [
       "tvEpisode       1373823\n",
       "short            592201\n",
       "movie            377538\n",
       "video            178952\n",
       "tvMovie           90899\n",
       "tvSeries          89328\n",
       "tvSpecial         17716\n",
       "tvMiniSeries      16862\n",
       "tvShort            8670\n",
       "videoGame           317\n",
       "Name: titleType, dtype: int64"
      ]
     },
     "execution_count": 12,
     "metadata": {},
     "output_type": "execute_result"
    }
   ],
   "source": [
    "# Check value_counts for the titleType column\n",
    "basics['titleType'].value_counts()"
   ]
  },
  {
   "cell_type": "code",
   "execution_count": 13,
   "id": "798c262d",
   "metadata": {
    "hidden": true
   },
   "outputs": [
    {
     "data": {
      "text/plain": [
       "movie    377538\n",
       "Name: titleType, dtype: int64"
      ]
     },
     "execution_count": 13,
     "metadata": {},
     "output_type": "execute_result"
    }
   ],
   "source": [
    "# Keep only rows in which titleType == movie\n",
    "basics = basics.loc[basics['titleType'] == 'movie']\n",
    "basics['titleType'].value_counts()"
   ]
  },
  {
   "cell_type": "code",
   "execution_count": 14,
   "id": "0a943985",
   "metadata": {
    "hidden": true
   },
   "outputs": [
    {
     "data": {
      "text/plain": [
       "0"
      ]
     },
     "execution_count": 14,
     "metadata": {},
     "output_type": "execute_result"
    }
   ],
   "source": [
    "# Remove movies that are null for the startYear\n",
    "# we will do this because we only want to keep movies with a startYear between\n",
    "# 2000 - 2021, and null values are not between those years\n",
    "basics.dropna(subset = ['startYear'], inplace=True)\n",
    "basics['startYear'].isna().sum()"
   ]
  },
  {
   "cell_type": "code",
   "execution_count": 15,
   "id": "a790857b",
   "metadata": {
    "hidden": true
   },
   "outputs": [
    {
     "data": {
      "text/plain": [
       "tconst            object\n",
       "titleType         object\n",
       "primaryTitle      object\n",
       "originalTitle     object\n",
       "isAdult           object\n",
       "startYear          int32\n",
       "endYear           object\n",
       "runtimeMinutes    object\n",
       "genres            object\n",
       "dtype: object"
      ]
     },
     "execution_count": 15,
     "metadata": {},
     "output_type": "execute_result"
    }
   ],
   "source": [
    "# convert start year column to type integer\n",
    "basics['startYear'] = basics['startYear'].astype(int)\n",
    "basics.dtypes"
   ]
  },
  {
   "cell_type": "code",
   "execution_count": 16,
   "id": "a7f5a7aa",
   "metadata": {
    "hidden": true
   },
   "outputs": [],
   "source": [
    "# Keep rows with startYear between 2000 - 2022\n",
    "basics = basics.loc[(basics['startYear'] >= 2000) & (basics['startYear'] <= 2021)]"
   ]
  },
  {
   "cell_type": "code",
   "execution_count": 17,
   "id": "6038806a",
   "metadata": {
    "hidden": true
   },
   "outputs": [
    {
     "data": {
      "text/plain": [
       "count    209447.000000\n",
       "mean       2012.835810\n",
       "std           5.610638\n",
       "min        2000.000000\n",
       "25%        2009.000000\n",
       "50%        2014.000000\n",
       "75%        2017.000000\n",
       "max        2021.000000\n",
       "Name: startYear, dtype: float64"
      ]
     },
     "execution_count": 17,
     "metadata": {},
     "output_type": "execute_result"
    }
   ],
   "source": [
    "# check that startYear column only kept data between 2000 - 2021\n",
    "basics['startYear'].describe()"
   ]
  },
  {
   "cell_type": "code",
   "execution_count": 18,
   "id": "99e8cf9f",
   "metadata": {
    "hidden": true
   },
   "outputs": [],
   "source": [
    "# Eliminate movies that include 'Documentary' in the genre \n",
    "is_documentary = basics['genres'].str.contains('documentary', case=False)\n",
    "basics = basics[~is_documentary]"
   ]
  },
  {
   "cell_type": "code",
   "execution_count": 21,
   "id": "c3ff5a14",
   "metadata": {
    "hidden": true
   },
   "outputs": [],
   "source": [
    "# Keep only movies made in the US region (as defined by the akas dataframe)\n",
    "keepers = basics['tconst'].isin(akas['titleId'])\n",
    "basics = basics[keepers]"
   ]
  },
  {
   "cell_type": "code",
   "execution_count": 25,
   "id": "61066579",
   "metadata": {
    "hidden": true
   },
   "outputs": [
    {
     "name": "stdout",
     "output_type": "stream",
     "text": [
      "<class 'pandas.core.frame.DataFrame'>\n",
      "Int64Index: 80989 entries, 34803 to 9631605\n",
      "Data columns (total 9 columns):\n",
      " #   Column          Non-Null Count  Dtype \n",
      "---  ------          --------------  ----- \n",
      " 0   tconst          80989 non-null  object\n",
      " 1   titleType       80989 non-null  object\n",
      " 2   primaryTitle    80989 non-null  object\n",
      " 3   originalTitle   80989 non-null  object\n",
      " 4   isAdult         80989 non-null  object\n",
      " 5   startYear       80989 non-null  int32 \n",
      " 6   endYear         0 non-null      object\n",
      " 7   runtimeMinutes  80989 non-null  object\n",
      " 8   genres          80989 non-null  object\n",
      "dtypes: int32(1), object(8)\n",
      "memory usage: 5.9+ MB\n"
     ]
    }
   ],
   "source": [
    "# Check info of basics dataframe\n",
    "basics.info()"
   ]
  },
  {
   "cell_type": "markdown",
   "id": "fd215cc3",
   "metadata": {
    "heading_collapsed": true,
    "hidden": true
   },
   "source": [
    "### Cleaning Title Ratings Dataframe"
   ]
  },
  {
   "cell_type": "code",
   "execution_count": 22,
   "id": "786229bf",
   "metadata": {
    "hidden": true
   },
   "outputs": [
    {
     "name": "stdout",
     "output_type": "stream",
     "text": [
      "<class 'pandas.core.frame.DataFrame'>\n",
      "RangeIndex: 1281765 entries, 0 to 1281764\n",
      "Data columns (total 3 columns):\n",
      " #   Column         Non-Null Count    Dtype  \n",
      "---  ------         --------------    -----  \n",
      " 0   tconst         1281765 non-null  object \n",
      " 1   averageRating  1281765 non-null  float64\n",
      " 2   numVotes       1281765 non-null  int64  \n",
      "dtypes: float64(1), int64(1), object(1)\n",
      "memory usage: 29.3+ MB\n"
     ]
    }
   ],
   "source": [
    "# check info for ratings dataframe\n",
    "ratings.info()"
   ]
  },
  {
   "cell_type": "code",
   "execution_count": 23,
   "id": "4f53404f",
   "metadata": {
    "hidden": true
   },
   "outputs": [],
   "source": [
    "# Keep only movies made in the US region (as defined by the akas dataframe)\n",
    "keepers = ratings['tconst'].isin(akas['titleId'])\n",
    "ratings = ratings[keepers]"
   ]
  },
  {
   "cell_type": "code",
   "execution_count": 26,
   "id": "65380750",
   "metadata": {
    "hidden": true
   },
   "outputs": [
    {
     "name": "stdout",
     "output_type": "stream",
     "text": [
      "<class 'pandas.core.frame.DataFrame'>\n",
      "Int64Index: 489683 entries, 0 to 1281743\n",
      "Data columns (total 3 columns):\n",
      " #   Column         Non-Null Count   Dtype  \n",
      "---  ------         --------------   -----  \n",
      " 0   tconst         489683 non-null  object \n",
      " 1   averageRating  489683 non-null  float64\n",
      " 2   numVotes       489683 non-null  int64  \n",
      "dtypes: float64(1), int64(1), object(1)\n",
      "memory usage: 14.9+ MB\n"
     ]
    }
   ],
   "source": [
    "# check info of ratings dataframe\n",
    "ratings.info()"
   ]
  },
  {
   "cell_type": "markdown",
   "id": "b82386cd",
   "metadata": {
    "heading_collapsed": true,
    "hidden": true
   },
   "source": [
    "### Saving Dataframes in the GitHub Repository"
   ]
  },
  {
   "cell_type": "code",
   "execution_count": 30,
   "id": "9640baf5",
   "metadata": {
    "hidden": true
   },
   "outputs": [
    {
     "data": {
      "text/plain": [
       "[]"
      ]
     },
     "execution_count": 30,
     "metadata": {},
     "output_type": "execute_result"
    }
   ],
   "source": [
    "# Create 'Data/' file in GitHub Repository\n",
    "os.makedirs('Data/', exist_ok=True)\n",
    "# confirm the folder is created\n",
    "os.listdir(\"Data/\")"
   ]
  },
  {
   "cell_type": "code",
   "execution_count": 35,
   "id": "6d2452a7",
   "metadata": {
    "hidden": true
   },
   "outputs": [],
   "source": [
    "# save dataframes to files\n",
    "basics.to_csv(\"Data/title_basics.csv.gz\", compression='gzip', index=False)\n",
    "ratings.to_csv(\"Data/title_ratings.csv.gz\", compression='gzip', index=False)\n",
    "akas.to_csv(\"Data/title_akas.csv.gz\", compression='gzip', index=False)"
   ]
  },
  {
   "cell_type": "code",
   "execution_count": 34,
   "id": "c33bf5f2",
   "metadata": {
    "hidden": true
   },
   "outputs": [
    {
     "name": "stdout",
     "output_type": "stream",
     "text": [
      "<class 'pandas.core.frame.DataFrame'>\n",
      "RangeIndex: 80989 entries, 0 to 80988\n",
      "Data columns (total 9 columns):\n",
      " #   Column          Non-Null Count  Dtype  \n",
      "---  ------          --------------  -----  \n",
      " 0   tconst          80989 non-null  object \n",
      " 1   titleType       80989 non-null  object \n",
      " 2   primaryTitle    80989 non-null  object \n",
      " 3   originalTitle   80989 non-null  object \n",
      " 4   isAdult         80989 non-null  int64  \n",
      " 5   startYear       80989 non-null  int64  \n",
      " 6   endYear         0 non-null      float64\n",
      " 7   runtimeMinutes  80989 non-null  int64  \n",
      " 8   genres          80989 non-null  object \n",
      "dtypes: float64(1), int64(3), object(5)\n",
      "memory usage: 5.6+ MB\n"
     ]
    }
   ],
   "source": [
    "# check basics dataframe was saved correctly\n",
    "basics = pd.read_csv(\"Data/title_basics.csv.gz\", low_memory=False)\n",
    "basics.info()"
   ]
  },
  {
   "cell_type": "code",
   "execution_count": 37,
   "id": "f264397a",
   "metadata": {
    "hidden": true
   },
   "outputs": [
    {
     "name": "stdout",
     "output_type": "stream",
     "text": [
      "<class 'pandas.core.frame.DataFrame'>\n",
      "RangeIndex: 489683 entries, 0 to 489682\n",
      "Data columns (total 3 columns):\n",
      " #   Column         Non-Null Count   Dtype  \n",
      "---  ------         --------------   -----  \n",
      " 0   tconst         489683 non-null  object \n",
      " 1   averageRating  489683 non-null  float64\n",
      " 2   numVotes       489683 non-null  int64  \n",
      "dtypes: float64(1), int64(1), object(1)\n",
      "memory usage: 11.2+ MB\n"
     ]
    }
   ],
   "source": [
    "# check ratings dataframe was saved correctly\n",
    "ratings = pd.read_csv(\"Data/title_ratings.csv.gz\", low_memory=False)\n",
    "ratings.info()"
   ]
  },
  {
   "cell_type": "code",
   "execution_count": 38,
   "id": "69f45b2e",
   "metadata": {
    "hidden": true
   },
   "outputs": [
    {
     "name": "stdout",
     "output_type": "stream",
     "text": [
      "<class 'pandas.core.frame.DataFrame'>\n",
      "RangeIndex: 1415820 entries, 0 to 1415819\n",
      "Data columns (total 8 columns):\n",
      " #   Column           Non-Null Count    Dtype  \n",
      "---  ------           --------------    -----  \n",
      " 0   titleId          1415820 non-null  object \n",
      " 1   ordering         1415820 non-null  int64  \n",
      " 2   title            1415820 non-null  object \n",
      " 3   region           1415820 non-null  object \n",
      " 4   language         3829 non-null     object \n",
      " 5   types            973958 non-null   object \n",
      " 6   attributes       46001 non-null    object \n",
      " 7   isOriginalTitle  1414475 non-null  float64\n",
      "dtypes: float64(1), int64(1), object(6)\n",
      "memory usage: 86.4+ MB\n"
     ]
    }
   ],
   "source": [
    "# check akas dataframe was saved correctly\n",
    "akas = pd.read_csv(\"Data/title_akas.csv.gz\", low_memory=False)\n",
    "akas.info()"
   ]
  },
  {
   "cell_type": "markdown",
   "id": "a99d68aa",
   "metadata": {},
   "source": [
    "## Extract Data from TMDB"
   ]
  },
  {
   "cell_type": "markdown",
   "id": "10c6c3da",
   "metadata": {},
   "source": [
    "### tmdbsimple Package"
   ]
  },
  {
   "cell_type": "code",
   "execution_count": 2,
   "id": "831f5ba9",
   "metadata": {},
   "outputs": [
    {
     "name": "stdout",
     "output_type": "stream",
     "text": [
      "Requirement already satisfied: tmdbsimple in c:\\users\\james\\anaconda3\\envs\\dojo-env\\lib\\site-packages (2.9.1)\n",
      "Requirement already satisfied: requests in c:\\users\\james\\anaconda3\\envs\\dojo-env\\lib\\site-packages (from tmdbsimple) (2.28.1)\n",
      "Requirement already satisfied: idna<4,>=2.5 in c:\\users\\james\\anaconda3\\envs\\dojo-env\\lib\\site-packages (from requests->tmdbsimple) (3.4)\n",
      "Requirement already satisfied: urllib3<1.27,>=1.21.1 in c:\\users\\james\\anaconda3\\envs\\dojo-env\\lib\\site-packages (from requests->tmdbsimple) (1.26.13)\n",
      "Requirement already satisfied: charset-normalizer<3,>=2 in c:\\users\\james\\anaconda3\\envs\\dojo-env\\lib\\site-packages (from requests->tmdbsimple) (2.0.4)\n",
      "Requirement already satisfied: certifi>=2017.4.17 in c:\\users\\james\\anaconda3\\envs\\dojo-env\\lib\\site-packages (from requests->tmdbsimple) (2022.9.24)\n"
     ]
    }
   ],
   "source": [
    "!pip install tmdbsimple;\n",
    "import tmdbsimple as tmdb"
   ]
  },
  {
   "cell_type": "code",
   "execution_count": null,
   "id": "8b5ed407",
   "metadata": {},
   "outputs": [],
   "source": [
    "# load login credentials using json file in notebook\n",
    "with open('C:')"
   ]
  }
 ],
 "metadata": {
  "kernelspec": {
   "display_name": "Python (dojo-env)",
   "language": "python",
   "name": "dojo-env"
  },
  "language_info": {
   "codemirror_mode": {
    "name": "ipython",
    "version": 3
   },
   "file_extension": ".py",
   "mimetype": "text/x-python",
   "name": "python",
   "nbconvert_exporter": "python",
   "pygments_lexer": "ipython3",
   "version": "3.9.15"
  },
  "toc": {
   "base_numbering": 1,
   "nav_menu": {},
   "number_sections": true,
   "sideBar": true,
   "skip_h1_title": false,
   "title_cell": "Table of Contents",
   "title_sidebar": "Contents",
   "toc_cell": false,
   "toc_position": {},
   "toc_section_display": true,
   "toc_window_display": false
  }
 },
 "nbformat": 4,
 "nbformat_minor": 5
}
